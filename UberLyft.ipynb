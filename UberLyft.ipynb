{
 "cells": [
  {
   "cell_type": "markdown",
   "id": "8138c8ec-4db8-4b44-9eaa-010a3b47347b",
   "metadata": {},
   "source": [
    "# Project: Uber vs Lyft\n",
    "\n",
    "## Table of Contents\n",
    "<ul>\n",
    "<li><a href=\"#intro\">Introduction</a></li>\n",
    "<li><a href=\"#wrangling\">Data Wrangling</a></li>\n",
    "<li><a href=\"#eda\">Exploratory Data Analysis</a></li>\n",
    "<li><a href=\"#conclusions\">Conclusions</a></li>\n",
    "</ul>"
   ]
  },
  {
   "cell_type": "markdown",
   "id": "3fd72160-ab43-4816-8387-57f49b4644f4",
   "metadata": {},
   "source": [
    "<a id='intro'></a>\n",
    "## Introduction\n",
    "\n",
    "### Question(s) for Analysis\n",
    "Is there a statistically significant difference in average daily earnings for drivers working with Uber versus Lyft in New York City during 2021?\n",
    "  \n",
    "As the ride-share industry continues to grow, this data analysis stands as a valuable resource for both newcomers and drivers committed to a single company. By offering insights into the comparative profitability between companies, it equips drivers with the knowledge to optimize their earning potential. This analysis empowers drivers to discern whether sticking with a single service or diversifying across platforms is the key to maximizing their efficiency and earnings."
   ]
  },
  {
   "cell_type": "code",
   "execution_count": 1,
   "id": "3af6ee19-dab4-4dbc-89fc-5b54a9893b4c",
   "metadata": {},
   "outputs": [],
   "source": [
    "# Import statements for all of the packages that I plan to use.\n",
    "import pandas as pd\n",
    "import numpy as np\n",
    "from matplotlib import pyplot as plt\n",
    "import seaborn as sns\n",
    "from scipy.stats import ttest_ind"
   ]
  },
  {
   "cell_type": "markdown",
   "id": "5160f9c1-05a1-4f09-a5d7-ef20e8471f5c",
   "metadata": {},
   "source": [
    "<a id='wrangling'></a>\n",
    "### Data Wrangling\n",
    "In this section, I will load in the data, assess its properties, and prepare to clean for analysis."
   ]
  },
  {
   "cell_type": "code",
   "execution_count": 39,
   "id": "df38d1e9-115a-4ab9-aa36-3fc767059d80",
   "metadata": {},
   "outputs": [
    {
     "data": {
      "text/html": [
       "<div>\n",
       "<style scoped>\n",
       "    .dataframe tbody tr th:only-of-type {\n",
       "        vertical-align: middle;\n",
       "    }\n",
       "\n",
       "    .dataframe tbody tr th {\n",
       "        vertical-align: top;\n",
       "    }\n",
       "\n",
       "    .dataframe thead th {\n",
       "        text-align: right;\n",
       "    }\n",
       "</style>\n",
       "<table border=\"1\" class=\"dataframe\">\n",
       "  <thead>\n",
       "    <tr style=\"text-align: right;\">\n",
       "      <th></th>\n",
       "      <th>hvfhs_license_num</th>\n",
       "      <th>dispatching_base_num</th>\n",
       "      <th>originating_base_num</th>\n",
       "      <th>request_datetime</th>\n",
       "      <th>on_scene_datetime</th>\n",
       "      <th>pickup_datetime</th>\n",
       "      <th>dropoff_datetime</th>\n",
       "      <th>PULocationID</th>\n",
       "      <th>DOLocationID</th>\n",
       "      <th>trip_miles</th>\n",
       "      <th>...</th>\n",
       "      <th>sales_tax</th>\n",
       "      <th>congestion_surcharge</th>\n",
       "      <th>airport_fee</th>\n",
       "      <th>tips</th>\n",
       "      <th>driver_pay</th>\n",
       "      <th>shared_request_flag</th>\n",
       "      <th>shared_match_flag</th>\n",
       "      <th>access_a_ride_flag</th>\n",
       "      <th>wav_request_flag</th>\n",
       "      <th>wav_match_flag</th>\n",
       "    </tr>\n",
       "  </thead>\n",
       "  <tbody>\n",
       "    <tr>\n",
       "      <th>0</th>\n",
       "      <td>HV0003</td>\n",
       "      <td>B02682</td>\n",
       "      <td>B02682</td>\n",
       "      <td>2021-01-01 00:28:09</td>\n",
       "      <td>2021-01-01 00:31:42</td>\n",
       "      <td>2021-01-01 00:33:44</td>\n",
       "      <td>2021-01-01 00:49:07</td>\n",
       "      <td>230</td>\n",
       "      <td>166</td>\n",
       "      <td>5.26</td>\n",
       "      <td>...</td>\n",
       "      <td>1.98</td>\n",
       "      <td>2.75</td>\n",
       "      <td>NaN</td>\n",
       "      <td>0.00</td>\n",
       "      <td>14.99</td>\n",
       "      <td>N</td>\n",
       "      <td>N</td>\n",
       "      <td></td>\n",
       "      <td>N</td>\n",
       "      <td>N</td>\n",
       "    </tr>\n",
       "    <tr>\n",
       "      <th>1</th>\n",
       "      <td>HV0003</td>\n",
       "      <td>B02682</td>\n",
       "      <td>B02682</td>\n",
       "      <td>2021-01-01 00:45:56</td>\n",
       "      <td>2021-01-01 00:55:19</td>\n",
       "      <td>2021-01-01 00:55:19</td>\n",
       "      <td>2021-01-01 01:18:21</td>\n",
       "      <td>152</td>\n",
       "      <td>167</td>\n",
       "      <td>3.65</td>\n",
       "      <td>...</td>\n",
       "      <td>1.63</td>\n",
       "      <td>0.00</td>\n",
       "      <td>NaN</td>\n",
       "      <td>0.00</td>\n",
       "      <td>17.06</td>\n",
       "      <td>N</td>\n",
       "      <td>N</td>\n",
       "      <td></td>\n",
       "      <td>N</td>\n",
       "      <td>N</td>\n",
       "    </tr>\n",
       "    <tr>\n",
       "      <th>2</th>\n",
       "      <td>HV0003</td>\n",
       "      <td>B02764</td>\n",
       "      <td>B02764</td>\n",
       "      <td>2021-01-01 00:21:15</td>\n",
       "      <td>2021-01-01 00:22:41</td>\n",
       "      <td>2021-01-01 00:23:56</td>\n",
       "      <td>2021-01-01 00:38:05</td>\n",
       "      <td>233</td>\n",
       "      <td>142</td>\n",
       "      <td>3.51</td>\n",
       "      <td>...</td>\n",
       "      <td>1.25</td>\n",
       "      <td>2.75</td>\n",
       "      <td>NaN</td>\n",
       "      <td>0.94</td>\n",
       "      <td>12.98</td>\n",
       "      <td>N</td>\n",
       "      <td>N</td>\n",
       "      <td></td>\n",
       "      <td>N</td>\n",
       "      <td>N</td>\n",
       "    </tr>\n",
       "    <tr>\n",
       "      <th>3</th>\n",
       "      <td>HV0003</td>\n",
       "      <td>B02764</td>\n",
       "      <td>B02764</td>\n",
       "      <td>2021-01-01 00:39:12</td>\n",
       "      <td>2021-01-01 00:42:37</td>\n",
       "      <td>2021-01-01 00:42:51</td>\n",
       "      <td>2021-01-01 00:45:50</td>\n",
       "      <td>142</td>\n",
       "      <td>143</td>\n",
       "      <td>0.74</td>\n",
       "      <td>...</td>\n",
       "      <td>0.70</td>\n",
       "      <td>2.75</td>\n",
       "      <td>NaN</td>\n",
       "      <td>0.00</td>\n",
       "      <td>7.41</td>\n",
       "      <td>N</td>\n",
       "      <td>N</td>\n",
       "      <td></td>\n",
       "      <td>N</td>\n",
       "      <td>N</td>\n",
       "    </tr>\n",
       "    <tr>\n",
       "      <th>4</th>\n",
       "      <td>HV0003</td>\n",
       "      <td>B02764</td>\n",
       "      <td>B02764</td>\n",
       "      <td>2021-01-01 00:46:11</td>\n",
       "      <td>2021-01-01 00:47:17</td>\n",
       "      <td>2021-01-01 00:48:14</td>\n",
       "      <td>2021-01-01 01:08:42</td>\n",
       "      <td>143</td>\n",
       "      <td>78</td>\n",
       "      <td>9.20</td>\n",
       "      <td>...</td>\n",
       "      <td>2.41</td>\n",
       "      <td>2.75</td>\n",
       "      <td>NaN</td>\n",
       "      <td>0.00</td>\n",
       "      <td>22.44</td>\n",
       "      <td>N</td>\n",
       "      <td>N</td>\n",
       "      <td></td>\n",
       "      <td>N</td>\n",
       "      <td>N</td>\n",
       "    </tr>\n",
       "  </tbody>\n",
       "</table>\n",
       "<p>5 rows × 24 columns</p>\n",
       "</div>"
      ],
      "text/plain": [
       "  hvfhs_license_num dispatching_base_num originating_base_num  \\\n",
       "0            HV0003               B02682               B02682   \n",
       "1            HV0003               B02682               B02682   \n",
       "2            HV0003               B02764               B02764   \n",
       "3            HV0003               B02764               B02764   \n",
       "4            HV0003               B02764               B02764   \n",
       "\n",
       "     request_datetime   on_scene_datetime     pickup_datetime  \\\n",
       "0 2021-01-01 00:28:09 2021-01-01 00:31:42 2021-01-01 00:33:44   \n",
       "1 2021-01-01 00:45:56 2021-01-01 00:55:19 2021-01-01 00:55:19   \n",
       "2 2021-01-01 00:21:15 2021-01-01 00:22:41 2021-01-01 00:23:56   \n",
       "3 2021-01-01 00:39:12 2021-01-01 00:42:37 2021-01-01 00:42:51   \n",
       "4 2021-01-01 00:46:11 2021-01-01 00:47:17 2021-01-01 00:48:14   \n",
       "\n",
       "     dropoff_datetime  PULocationID  DOLocationID  trip_miles  ...  sales_tax  \\\n",
       "0 2021-01-01 00:49:07           230           166        5.26  ...       1.98   \n",
       "1 2021-01-01 01:18:21           152           167        3.65  ...       1.63   \n",
       "2 2021-01-01 00:38:05           233           142        3.51  ...       1.25   \n",
       "3 2021-01-01 00:45:50           142           143        0.74  ...       0.70   \n",
       "4 2021-01-01 01:08:42           143            78        9.20  ...       2.41   \n",
       "\n",
       "   congestion_surcharge  airport_fee  tips  driver_pay  shared_request_flag  \\\n",
       "0                  2.75          NaN  0.00       14.99                    N   \n",
       "1                  0.00          NaN  0.00       17.06                    N   \n",
       "2                  2.75          NaN  0.94       12.98                    N   \n",
       "3                  2.75          NaN  0.00        7.41                    N   \n",
       "4                  2.75          NaN  0.00       22.44                    N   \n",
       "\n",
       "   shared_match_flag  access_a_ride_flag  wav_request_flag wav_match_flag  \n",
       "0                  N                                     N              N  \n",
       "1                  N                                     N              N  \n",
       "2                  N                                     N              N  \n",
       "3                  N                                     N              N  \n",
       "4                  N                                     N              N  \n",
       "\n",
       "[5 rows x 24 columns]"
      ]
     },
     "execution_count": 39,
     "metadata": {},
     "output_type": "execute_result"
    }
   ],
   "source": [
    "# Load monthly trip DataFrames\n",
    "\n",
    "jan = pd.read_parquet('/Users/Huffnagle/Documents/Capstone/D195-Capstone/fhvhv_tripdata_2021-01.parquet')\n",
    "feb = pd.read_parquet('/Users/Huffnagle/Documents/Capstone/D195-Capstone/fhvhv_tripdata_2021-02.parquet')\n",
    "mar = pd.read_parquet('/Users/Huffnagle/Documents/Capstone/D195-Capstone/fhvhv_tripdata_2021-03.parquet')\n",
    "apr = pd.read_parquet('/Users/Huffnagle/Documents/Capstone/D195-Capstone/fhvhv_tripdata_2021-04.parquet')\n",
    "may = pd.read_parquet('/Users/Huffnagle/Documents/Capstone/D195-Capstone/fhvhv_tripdata_2021-05.parquet')\n",
    "jun = pd.read_parquet('/Users/Huffnagle/Documents/Capstone/D195-Capstone/fhvhv_tripdata_2021-06.parquet')\n",
    "jul = pd.read_parquet('/Users/Huffnagle/Documents/Capstone/D195-Capstone/fhvhv_tripdata_2021-07.parquet')\n",
    "aug = pd.read_parquet('/Users/Huffnagle/Documents/Capstone/D195-Capstone/fhvhv_tripdata_2021-08.parquet')\n",
    "sep = pd.read_parquet('/Users/Huffnagle/Documents/Capstone/D195-Capstone/fhvhv_tripdata_2021-09.parquet')\n",
    "oct = pd.read_parquet('/Users/Huffnagle/Documents/Capstone/D195-Capstone/fhvhv_tripdata_2021-10.parquet')\n",
    "nov = pd.read_parquet('/Users/Huffnagle/Documents/Capstone/D195-Capstone/fhvhv_tripdata_2021-11.parquet')\n",
    "dec = pd.read_parquet('/Users/Huffnagle/Documents/Capstone/D195-Capstone/fhvhv_tripdata_2021-12.parquet')\n",
    "\n",
    "# Display the jan DataFrame\n",
    "jan.head()  "
   ]
  },
  {
   "cell_type": "code",
   "execution_count": 5,
   "id": "88ee059b-bd83-46bc-9a67-5171492e0cd8",
   "metadata": {},
   "outputs": [
    {
     "name": "stdout",
     "output_type": "stream",
     "text": [
      "(11908468, 24)\n",
      "(11613942, 24)\n",
      "(14227393, 24)\n",
      "(14111371, 24)\n",
      "(14719171, 24)\n",
      "(14961892, 24)\n",
      "(15027174, 24)\n",
      "(14499696, 24)\n",
      "(14886055, 24)\n",
      "(16545356, 24)\n",
      "(16041639, 24)\n",
      "(16054495, 24)\n"
     ]
    }
   ],
   "source": [
    "print(jan.shape)\n",
    "print(feb.shape)\n",
    "print(mar.shape)\n",
    "print(apr.shape)\n",
    "print(may.shape)\n",
    "print(jun.shape)\n",
    "print(jul.shape)\n",
    "print(aug.shape)\n",
    "print(sep.shape)\n",
    "print(oct.shape)\n",
    "print(nov.shape)\n",
    "print(dec.shape)"
   ]
  },
  {
   "cell_type": "markdown",
   "id": "5d2491f1-aa2c-42e8-80cf-f63d3fce8293",
   "metadata": {},
   "source": [
    "#### Displaying information about each column\n",
    "This shows the header for each column along with the number of values and data types."
   ]
  },
  {
   "cell_type": "code",
   "execution_count": 6,
   "id": "11898f5a-c8b9-4aa3-a449-9b7b4e1b06be",
   "metadata": {},
   "outputs": [
    {
     "name": "stdout",
     "output_type": "stream",
     "text": [
      "<class 'pandas.core.frame.DataFrame'>\n",
      "RangeIndex: 11908468 entries, 0 to 11908467\n",
      "Data columns (total 24 columns):\n",
      " #   Column                Dtype         \n",
      "---  ------                -----         \n",
      " 0   hvfhs_license_num     object        \n",
      " 1   dispatching_base_num  object        \n",
      " 2   originating_base_num  object        \n",
      " 3   request_datetime      datetime64[ns]\n",
      " 4   on_scene_datetime     datetime64[ns]\n",
      " 5   pickup_datetime       datetime64[ns]\n",
      " 6   dropoff_datetime      datetime64[ns]\n",
      " 7   PULocationID          int64         \n",
      " 8   DOLocationID          int64         \n",
      " 9   trip_miles            float64       \n",
      " 10  trip_time             int64         \n",
      " 11  base_passenger_fare   float64       \n",
      " 12  tolls                 float64       \n",
      " 13  bcf                   float64       \n",
      " 14  sales_tax             float64       \n",
      " 15  congestion_surcharge  float64       \n",
      " 16  airport_fee           float64       \n",
      " 17  tips                  float64       \n",
      " 18  driver_pay            float64       \n",
      " 19  shared_request_flag   object        \n",
      " 20  shared_match_flag     object        \n",
      " 21  access_a_ride_flag    object        \n",
      " 22  wav_request_flag      object        \n",
      " 23  wav_match_flag        object        \n",
      "dtypes: datetime64[ns](4), float64(9), int64(3), object(8)\n",
      "memory usage: 2.1+ GB\n"
     ]
    }
   ],
   "source": [
    "jan.info()"
   ]
  },
  {
   "cell_type": "code",
   "execution_count": 7,
   "id": "f41d3033-1f3f-4705-8437-1af9e0d4c1ff",
   "metadata": {},
   "outputs": [
    {
     "name": "stdout",
     "output_type": "stream",
     "text": [
      "<class 'pandas.core.frame.DataFrame'>\n",
      "RangeIndex: 11613942 entries, 0 to 11613941\n",
      "Data columns (total 24 columns):\n",
      " #   Column                Dtype         \n",
      "---  ------                -----         \n",
      " 0   hvfhs_license_num     object        \n",
      " 1   dispatching_base_num  object        \n",
      " 2   originating_base_num  object        \n",
      " 3   request_datetime      datetime64[ns]\n",
      " 4   on_scene_datetime     datetime64[ns]\n",
      " 5   pickup_datetime       datetime64[ns]\n",
      " 6   dropoff_datetime      datetime64[ns]\n",
      " 7   PULocationID          int64         \n",
      " 8   DOLocationID          int64         \n",
      " 9   trip_miles            float64       \n",
      " 10  trip_time             int64         \n",
      " 11  base_passenger_fare   float64       \n",
      " 12  tolls                 float64       \n",
      " 13  bcf                   float64       \n",
      " 14  sales_tax             float64       \n",
      " 15  congestion_surcharge  float64       \n",
      " 16  airport_fee           float64       \n",
      " 17  tips                  float64       \n",
      " 18  driver_pay            float64       \n",
      " 19  shared_request_flag   object        \n",
      " 20  shared_match_flag     object        \n",
      " 21  access_a_ride_flag    object        \n",
      " 22  wav_request_flag      object        \n",
      " 23  wav_match_flag        object        \n",
      "dtypes: datetime64[ns](4), float64(9), int64(3), object(8)\n",
      "memory usage: 2.1+ GB\n"
     ]
    }
   ],
   "source": [
    "feb.info()"
   ]
  },
  {
   "cell_type": "code",
   "execution_count": 8,
   "id": "9dc9968f-1895-48a3-ac6f-5a85c33c4299",
   "metadata": {},
   "outputs": [
    {
     "name": "stdout",
     "output_type": "stream",
     "text": [
      "<class 'pandas.core.frame.DataFrame'>\n",
      "RangeIndex: 14227393 entries, 0 to 14227392\n",
      "Data columns (total 24 columns):\n",
      " #   Column                Dtype         \n",
      "---  ------                -----         \n",
      " 0   hvfhs_license_num     object        \n",
      " 1   dispatching_base_num  object        \n",
      " 2   originating_base_num  object        \n",
      " 3   request_datetime      datetime64[ns]\n",
      " 4   on_scene_datetime     datetime64[ns]\n",
      " 5   pickup_datetime       datetime64[ns]\n",
      " 6   dropoff_datetime      datetime64[ns]\n",
      " 7   PULocationID          int64         \n",
      " 8   DOLocationID          int64         \n",
      " 9   trip_miles            float64       \n",
      " 10  trip_time             int64         \n",
      " 11  base_passenger_fare   float64       \n",
      " 12  tolls                 float64       \n",
      " 13  bcf                   float64       \n",
      " 14  sales_tax             float64       \n",
      " 15  congestion_surcharge  float64       \n",
      " 16  airport_fee           float64       \n",
      " 17  tips                  float64       \n",
      " 18  driver_pay            float64       \n",
      " 19  shared_request_flag   object        \n",
      " 20  shared_match_flag     object        \n",
      " 21  access_a_ride_flag    object        \n",
      " 22  wav_request_flag      object        \n",
      " 23  wav_match_flag        object        \n",
      "dtypes: datetime64[ns](4), float64(9), int64(3), object(8)\n",
      "memory usage: 2.5+ GB\n"
     ]
    }
   ],
   "source": [
    "mar.info()"
   ]
  },
  {
   "cell_type": "code",
   "execution_count": 9,
   "id": "1d79a46f-904c-46c8-ac4d-c8d81191a19d",
   "metadata": {},
   "outputs": [
    {
     "name": "stdout",
     "output_type": "stream",
     "text": [
      "<class 'pandas.core.frame.DataFrame'>\n",
      "RangeIndex: 14111371 entries, 0 to 14111370\n",
      "Data columns (total 24 columns):\n",
      " #   Column                Dtype         \n",
      "---  ------                -----         \n",
      " 0   hvfhs_license_num     object        \n",
      " 1   dispatching_base_num  object        \n",
      " 2   originating_base_num  object        \n",
      " 3   request_datetime      datetime64[ns]\n",
      " 4   on_scene_datetime     datetime64[ns]\n",
      " 5   pickup_datetime       datetime64[ns]\n",
      " 6   dropoff_datetime      datetime64[ns]\n",
      " 7   PULocationID          int64         \n",
      " 8   DOLocationID          int64         \n",
      " 9   trip_miles            float64       \n",
      " 10  trip_time             int64         \n",
      " 11  base_passenger_fare   float64       \n",
      " 12  tolls                 float64       \n",
      " 13  bcf                   float64       \n",
      " 14  sales_tax             float64       \n",
      " 15  congestion_surcharge  float64       \n",
      " 16  airport_fee           float64       \n",
      " 17  tips                  float64       \n",
      " 18  driver_pay            float64       \n",
      " 19  shared_request_flag   object        \n",
      " 20  shared_match_flag     object        \n",
      " 21  access_a_ride_flag    object        \n",
      " 22  wav_request_flag      object        \n",
      " 23  wav_match_flag        object        \n",
      "dtypes: datetime64[ns](4), float64(9), int64(3), object(8)\n",
      "memory usage: 2.5+ GB\n"
     ]
    }
   ],
   "source": [
    "apr.info()"
   ]
  },
  {
   "cell_type": "code",
   "execution_count": 10,
   "id": "e466733e-971d-43e3-8aba-11e55f5f33e6",
   "metadata": {},
   "outputs": [
    {
     "name": "stdout",
     "output_type": "stream",
     "text": [
      "<class 'pandas.core.frame.DataFrame'>\n",
      "RangeIndex: 14719171 entries, 0 to 14719170\n",
      "Data columns (total 24 columns):\n",
      " #   Column                Dtype         \n",
      "---  ------                -----         \n",
      " 0   hvfhs_license_num     object        \n",
      " 1   dispatching_base_num  object        \n",
      " 2   originating_base_num  object        \n",
      " 3   request_datetime      datetime64[ns]\n",
      " 4   on_scene_datetime     datetime64[ns]\n",
      " 5   pickup_datetime       datetime64[ns]\n",
      " 6   dropoff_datetime      datetime64[ns]\n",
      " 7   PULocationID          int64         \n",
      " 8   DOLocationID          int64         \n",
      " 9   trip_miles            float64       \n",
      " 10  trip_time             int64         \n",
      " 11  base_passenger_fare   float64       \n",
      " 12  tolls                 float64       \n",
      " 13  bcf                   float64       \n",
      " 14  sales_tax             float64       \n",
      " 15  congestion_surcharge  float64       \n",
      " 16  airport_fee           float64       \n",
      " 17  tips                  float64       \n",
      " 18  driver_pay            float64       \n",
      " 19  shared_request_flag   object        \n",
      " 20  shared_match_flag     object        \n",
      " 21  access_a_ride_flag    object        \n",
      " 22  wav_request_flag      object        \n",
      " 23  wav_match_flag        object        \n",
      "dtypes: datetime64[ns](4), float64(9), int64(3), object(8)\n",
      "memory usage: 2.6+ GB\n"
     ]
    }
   ],
   "source": [
    "may.info()"
   ]
  },
  {
   "cell_type": "code",
   "execution_count": 11,
   "id": "0600264c-a353-4dab-8c48-b3a82bc60718",
   "metadata": {},
   "outputs": [
    {
     "name": "stdout",
     "output_type": "stream",
     "text": [
      "<class 'pandas.core.frame.DataFrame'>\n",
      "RangeIndex: 14961892 entries, 0 to 14961891\n",
      "Data columns (total 24 columns):\n",
      " #   Column                Dtype         \n",
      "---  ------                -----         \n",
      " 0   hvfhs_license_num     object        \n",
      " 1   dispatching_base_num  object        \n",
      " 2   originating_base_num  object        \n",
      " 3   request_datetime      datetime64[ns]\n",
      " 4   on_scene_datetime     datetime64[ns]\n",
      " 5   pickup_datetime       datetime64[ns]\n",
      " 6   dropoff_datetime      datetime64[ns]\n",
      " 7   PULocationID          int64         \n",
      " 8   DOLocationID          int64         \n",
      " 9   trip_miles            float64       \n",
      " 10  trip_time             int64         \n",
      " 11  base_passenger_fare   float64       \n",
      " 12  tolls                 float64       \n",
      " 13  bcf                   float64       \n",
      " 14  sales_tax             float64       \n",
      " 15  congestion_surcharge  float64       \n",
      " 16  airport_fee           float64       \n",
      " 17  tips                  float64       \n",
      " 18  driver_pay            float64       \n",
      " 19  shared_request_flag   object        \n",
      " 20  shared_match_flag     object        \n",
      " 21  access_a_ride_flag    object        \n",
      " 22  wav_request_flag      object        \n",
      " 23  wav_match_flag        object        \n",
      "dtypes: datetime64[ns](4), float64(9), int64(3), object(8)\n",
      "memory usage: 2.7+ GB\n"
     ]
    }
   ],
   "source": [
    "jun.info()"
   ]
  },
  {
   "cell_type": "code",
   "execution_count": 12,
   "id": "e856ff62-0064-4fd6-9249-65b93a99e5fb",
   "metadata": {},
   "outputs": [
    {
     "name": "stdout",
     "output_type": "stream",
     "text": [
      "<class 'pandas.core.frame.DataFrame'>\n",
      "RangeIndex: 15027174 entries, 0 to 15027173\n",
      "Data columns (total 24 columns):\n",
      " #   Column                Dtype         \n",
      "---  ------                -----         \n",
      " 0   hvfhs_license_num     object        \n",
      " 1   dispatching_base_num  object        \n",
      " 2   originating_base_num  object        \n",
      " 3   request_datetime      datetime64[ns]\n",
      " 4   on_scene_datetime     datetime64[ns]\n",
      " 5   pickup_datetime       datetime64[ns]\n",
      " 6   dropoff_datetime      datetime64[ns]\n",
      " 7   PULocationID          int64         \n",
      " 8   DOLocationID          int64         \n",
      " 9   trip_miles            float64       \n",
      " 10  trip_time             int64         \n",
      " 11  base_passenger_fare   float64       \n",
      " 12  tolls                 float64       \n",
      " 13  bcf                   float64       \n",
      " 14  sales_tax             float64       \n",
      " 15  congestion_surcharge  float64       \n",
      " 16  airport_fee           float64       \n",
      " 17  tips                  float64       \n",
      " 18  driver_pay            float64       \n",
      " 19  shared_request_flag   object        \n",
      " 20  shared_match_flag     object        \n",
      " 21  access_a_ride_flag    object        \n",
      " 22  wav_request_flag      object        \n",
      " 23  wav_match_flag        object        \n",
      "dtypes: datetime64[ns](4), float64(9), int64(3), object(8)\n",
      "memory usage: 2.7+ GB\n"
     ]
    }
   ],
   "source": [
    "jul.info()"
   ]
  },
  {
   "cell_type": "code",
   "execution_count": 13,
   "id": "f5d8183a-aef1-42ef-ae59-cba298c9035b",
   "metadata": {},
   "outputs": [
    {
     "name": "stdout",
     "output_type": "stream",
     "text": [
      "<class 'pandas.core.frame.DataFrame'>\n",
      "RangeIndex: 14499696 entries, 0 to 14499695\n",
      "Data columns (total 24 columns):\n",
      " #   Column                Dtype         \n",
      "---  ------                -----         \n",
      " 0   hvfhs_license_num     object        \n",
      " 1   dispatching_base_num  object        \n",
      " 2   originating_base_num  object        \n",
      " 3   request_datetime      datetime64[ns]\n",
      " 4   on_scene_datetime     datetime64[ns]\n",
      " 5   pickup_datetime       datetime64[ns]\n",
      " 6   dropoff_datetime      datetime64[ns]\n",
      " 7   PULocationID          int64         \n",
      " 8   DOLocationID          int64         \n",
      " 9   trip_miles            float64       \n",
      " 10  trip_time             int64         \n",
      " 11  base_passenger_fare   float64       \n",
      " 12  tolls                 float64       \n",
      " 13  bcf                   float64       \n",
      " 14  sales_tax             float64       \n",
      " 15  congestion_surcharge  float64       \n",
      " 16  airport_fee           float64       \n",
      " 17  tips                  float64       \n",
      " 18  driver_pay            float64       \n",
      " 19  shared_request_flag   object        \n",
      " 20  shared_match_flag     object        \n",
      " 21  access_a_ride_flag    object        \n",
      " 22  wav_request_flag      object        \n",
      " 23  wav_match_flag        object        \n",
      "dtypes: datetime64[ns](4), float64(9), int64(3), object(8)\n",
      "memory usage: 2.6+ GB\n"
     ]
    }
   ],
   "source": [
    "aug.info()"
   ]
  },
  {
   "cell_type": "code",
   "execution_count": 14,
   "id": "9f8a0301-9d6c-4641-9415-e41ccb5bcf55",
   "metadata": {},
   "outputs": [
    {
     "name": "stdout",
     "output_type": "stream",
     "text": [
      "<class 'pandas.core.frame.DataFrame'>\n",
      "RangeIndex: 14886055 entries, 0 to 14886054\n",
      "Data columns (total 24 columns):\n",
      " #   Column                Dtype         \n",
      "---  ------                -----         \n",
      " 0   hvfhs_license_num     object        \n",
      " 1   dispatching_base_num  object        \n",
      " 2   originating_base_num  object        \n",
      " 3   request_datetime      datetime64[ns]\n",
      " 4   on_scene_datetime     datetime64[ns]\n",
      " 5   pickup_datetime       datetime64[ns]\n",
      " 6   dropoff_datetime      datetime64[ns]\n",
      " 7   PULocationID          int64         \n",
      " 8   DOLocationID          int64         \n",
      " 9   trip_miles            float64       \n",
      " 10  trip_time             int64         \n",
      " 11  base_passenger_fare   float64       \n",
      " 12  tolls                 float64       \n",
      " 13  bcf                   float64       \n",
      " 14  sales_tax             float64       \n",
      " 15  congestion_surcharge  float64       \n",
      " 16  airport_fee           float64       \n",
      " 17  tips                  float64       \n",
      " 18  driver_pay            float64       \n",
      " 19  shared_request_flag   object        \n",
      " 20  shared_match_flag     object        \n",
      " 21  access_a_ride_flag    object        \n",
      " 22  wav_request_flag      object        \n",
      " 23  wav_match_flag        object        \n",
      "dtypes: datetime64[ns](4), float64(9), int64(3), object(8)\n",
      "memory usage: 2.7+ GB\n"
     ]
    }
   ],
   "source": [
    "sep.info()"
   ]
  },
  {
   "cell_type": "code",
   "execution_count": 15,
   "id": "7bd7622d-5b5a-460a-a2c5-0022eb07c86c",
   "metadata": {},
   "outputs": [
    {
     "name": "stdout",
     "output_type": "stream",
     "text": [
      "<class 'pandas.core.frame.DataFrame'>\n",
      "RangeIndex: 16545356 entries, 0 to 16545355\n",
      "Data columns (total 24 columns):\n",
      " #   Column                Dtype         \n",
      "---  ------                -----         \n",
      " 0   hvfhs_license_num     object        \n",
      " 1   dispatching_base_num  object        \n",
      " 2   originating_base_num  object        \n",
      " 3   request_datetime      datetime64[ns]\n",
      " 4   on_scene_datetime     datetime64[ns]\n",
      " 5   pickup_datetime       datetime64[ns]\n",
      " 6   dropoff_datetime      datetime64[ns]\n",
      " 7   PULocationID          int64         \n",
      " 8   DOLocationID          int64         \n",
      " 9   trip_miles            float64       \n",
      " 10  trip_time             int64         \n",
      " 11  base_passenger_fare   float64       \n",
      " 12  tolls                 float64       \n",
      " 13  bcf                   float64       \n",
      " 14  sales_tax             float64       \n",
      " 15  congestion_surcharge  float64       \n",
      " 16  airport_fee           float64       \n",
      " 17  tips                  float64       \n",
      " 18  driver_pay            float64       \n",
      " 19  shared_request_flag   object        \n",
      " 20  shared_match_flag     object        \n",
      " 21  access_a_ride_flag    object        \n",
      " 22  wav_request_flag      object        \n",
      " 23  wav_match_flag        object        \n",
      "dtypes: datetime64[ns](4), float64(9), int64(3), object(8)\n",
      "memory usage: 3.0+ GB\n"
     ]
    }
   ],
   "source": [
    "oct.info()"
   ]
  },
  {
   "cell_type": "code",
   "execution_count": 16,
   "id": "48783fde-bb95-480d-8a43-7e16a1d8ca47",
   "metadata": {},
   "outputs": [
    {
     "name": "stdout",
     "output_type": "stream",
     "text": [
      "<class 'pandas.core.frame.DataFrame'>\n",
      "RangeIndex: 16041639 entries, 0 to 16041638\n",
      "Data columns (total 24 columns):\n",
      " #   Column                Dtype         \n",
      "---  ------                -----         \n",
      " 0   hvfhs_license_num     object        \n",
      " 1   dispatching_base_num  object        \n",
      " 2   originating_base_num  object        \n",
      " 3   request_datetime      datetime64[ns]\n",
      " 4   on_scene_datetime     datetime64[ns]\n",
      " 5   pickup_datetime       datetime64[ns]\n",
      " 6   dropoff_datetime      datetime64[ns]\n",
      " 7   PULocationID          int64         \n",
      " 8   DOLocationID          int64         \n",
      " 9   trip_miles            float64       \n",
      " 10  trip_time             int64         \n",
      " 11  base_passenger_fare   float64       \n",
      " 12  tolls                 float64       \n",
      " 13  bcf                   float64       \n",
      " 14  sales_tax             float64       \n",
      " 15  congestion_surcharge  float64       \n",
      " 16  airport_fee           float64       \n",
      " 17  tips                  float64       \n",
      " 18  driver_pay            float64       \n",
      " 19  shared_request_flag   object        \n",
      " 20  shared_match_flag     object        \n",
      " 21  access_a_ride_flag    object        \n",
      " 22  wav_request_flag      object        \n",
      " 23  wav_match_flag        object        \n",
      "dtypes: datetime64[ns](4), float64(9), int64(3), object(8)\n",
      "memory usage: 2.9+ GB\n"
     ]
    }
   ],
   "source": [
    "nov.info()"
   ]
  },
  {
   "cell_type": "code",
   "execution_count": 17,
   "id": "cc9d01f7-590e-4d2f-93bf-3b7567f2e88c",
   "metadata": {},
   "outputs": [
    {
     "name": "stdout",
     "output_type": "stream",
     "text": [
      "<class 'pandas.core.frame.DataFrame'>\n",
      "RangeIndex: 16054495 entries, 0 to 16054494\n",
      "Data columns (total 24 columns):\n",
      " #   Column                Dtype         \n",
      "---  ------                -----         \n",
      " 0   hvfhs_license_num     object        \n",
      " 1   dispatching_base_num  object        \n",
      " 2   originating_base_num  object        \n",
      " 3   request_datetime      datetime64[ns]\n",
      " 4   on_scene_datetime     datetime64[ns]\n",
      " 5   pickup_datetime       datetime64[ns]\n",
      " 6   dropoff_datetime      datetime64[ns]\n",
      " 7   PULocationID          int64         \n",
      " 8   DOLocationID          int64         \n",
      " 9   trip_miles            float64       \n",
      " 10  trip_time             int64         \n",
      " 11  base_passenger_fare   float64       \n",
      " 12  tolls                 float64       \n",
      " 13  bcf                   float64       \n",
      " 14  sales_tax             float64       \n",
      " 15  congestion_surcharge  float64       \n",
      " 16  airport_fee           float64       \n",
      " 17  tips                  float64       \n",
      " 18  driver_pay            float64       \n",
      " 19  shared_request_flag   object        \n",
      " 20  shared_match_flag     object        \n",
      " 21  access_a_ride_flag    object        \n",
      " 22  wav_request_flag      object        \n",
      " 23  wav_match_flag        object        \n",
      "dtypes: datetime64[ns](4), float64(9), int64(3), object(8)\n",
      "memory usage: 2.9+ GB\n"
     ]
    }
   ],
   "source": [
    "dec.info()"
   ]
  },
  {
   "cell_type": "markdown",
   "id": "63eddf99-f1d0-4382-b755-7e5a7e72644a",
   "metadata": {
    "tags": []
   },
   "source": [
    "#### Check for duplicated rows\n",
    "This displays a count of the duplicate rows in the dataset"
   ]
  },
  {
   "cell_type": "code",
   "execution_count": 18,
   "id": "d0684221-ff2a-476e-9c5e-c4b0daff9175",
   "metadata": {},
   "outputs": [
    {
     "name": "stdout",
     "output_type": "stream",
     "text": [
      "26\n",
      "0\n",
      "0\n",
      "25\n",
      "510\n",
      "0\n",
      "0\n",
      "0\n",
      "0\n",
      "0\n",
      "0\n",
      "0\n"
     ]
    }
   ],
   "source": [
    "#count the number of duplicated values in each column\n",
    "print(jan.duplicated().sum())\n",
    "print(feb.duplicated().sum())\n",
    "print(mar.duplicated().sum())\n",
    "print(apr.duplicated().sum())\n",
    "print(may.duplicated().sum())\n",
    "print(jun.duplicated().sum())\n",
    "print(jul.duplicated().sum())\n",
    "print(aug.duplicated().sum())\n",
    "print(sep.duplicated().sum())\n",
    "print(oct.duplicated().sum())\n",
    "print(nov.duplicated().sum())\n",
    "print(dec.duplicated().sum())    "
   ]
  },
  {
   "cell_type": "code",
   "execution_count": 3,
   "id": "4c91bf69-8eb9-4048-9652-f4c16ef4639e",
   "metadata": {},
   "outputs": [
    {
     "name": "stdout",
     "output_type": "stream",
     "text": [
      "        hvfhs_license_num dispatching_base_num originating_base_num  \\\n",
      "750632             HV0003               B02875               B02875   \n",
      "750633             HV0003               B02875               B02875   \n",
      "750634             HV0003               B02875               B02875   \n",
      "750635             HV0003               B02875               B02875   \n",
      "750636             HV0003               B02875               B02875   \n",
      "750637             HV0003               B02875               B02875   \n",
      "751647             HV0003               B02887               B02887   \n",
      "751648             HV0003               B02887               B02887   \n",
      "761996             HV0003               B02887               B02887   \n",
      "761997             HV0003               B02887               B02887   \n",
      "761998             HV0003               B02887               B02887   \n",
      "761999             HV0003               B02887               B02887   \n",
      "780299             HV0003               B02887               B02887   \n",
      "780300             HV0003               B02887               B02887   \n",
      "785266             HV0003               B02887               B02887   \n",
      "785267             HV0003               B02887               B02887   \n",
      "785268             HV0003               B02887               B02887   \n",
      "785269             HV0003               B02887               B02887   \n",
      "791977             HV0003               B02887               B02887   \n",
      "791978             HV0003               B02887               B02887   \n",
      "791979             HV0003               B02887               B02887   \n",
      "791980             HV0003               B02887               B02887   \n",
      "791981             HV0003               B02887               B02887   \n",
      "791982             HV0003               B02887               B02887   \n",
      "791983             HV0003               B02887               B02887   \n",
      "791984             HV0003               B02887               B02887   \n",
      "931374             HV0003               B02875               B02875   \n",
      "931375             HV0003               B02875               B02875   \n",
      "931376             HV0003               B02875               B02875   \n",
      "931377             HV0003               B02875               B02875   \n",
      "950550             HV0003               B02875               B02875   \n",
      "950551             HV0003               B02875               B02875   \n",
      "950552             HV0003               B02875               B02875   \n",
      "950553             HV0003               B02875               B02875   \n",
      "950554             HV0003               B02875               B02875   \n",
      "950555             HV0003               B02875               B02875   \n",
      "986372             HV0003               B02875               B02875   \n",
      "986373             HV0003               B02875               B02875   \n",
      "986374             HV0003               B02875               B02875   \n",
      "986376             HV0003               B02875               B02875   \n",
      "986377             HV0003               B02875               B02875   \n",
      "986378             HV0003               B02875               B02875   \n",
      "1001368            HV0003               B02875               B02875   \n",
      "1001370            HV0003               B02875               B02875   \n",
      "1014530            HV0003               B02875               B02875   \n",
      "1014531            HV0003               B02875               B02875   \n",
      "1014533            HV0003               B02875               B02875   \n",
      "1014534            HV0003               B02875               B02875   \n",
      "1038688            HV0003               B02887               B02887   \n",
      "1038689            HV0003               B02887               B02887   \n",
      "1038690            HV0003               B02887               B02887   \n",
      "1038691            HV0003               B02887               B02887   \n",
      "\n",
      "           request_datetime   on_scene_datetime     pickup_datetime  \\\n",
      "750632  2021-01-03 00:07:41 2021-01-03 00:09:34 2021-01-03 00:09:52   \n",
      "750633  2021-01-03 00:20:36 2021-01-03 00:24:30 2021-01-03 00:26:30   \n",
      "750634  2021-01-03 00:41:00 2021-01-03 00:43:05 2021-01-03 00:44:36   \n",
      "750635  2021-01-03 00:07:41 2021-01-03 00:09:34 2021-01-03 00:09:52   \n",
      "750636  2021-01-03 00:20:36 2021-01-03 00:24:30 2021-01-03 00:26:30   \n",
      "750637  2021-01-03 00:41:00 2021-01-03 00:43:05 2021-01-03 00:44:36   \n",
      "751647  2021-01-03 00:33:05 2021-01-03 00:33:56 2021-01-03 00:34:42   \n",
      "751648  2021-01-03 00:33:05 2021-01-03 00:33:56 2021-01-03 00:34:42   \n",
      "761996  2021-01-03 00:57:17 2021-01-03 00:59:04 2021-01-03 01:01:04   \n",
      "761997  2021-01-03 01:29:21 2021-01-03 01:33:52 2021-01-03 01:34:14   \n",
      "761998  2021-01-03 00:57:17 2021-01-03 00:59:04 2021-01-03 01:01:04   \n",
      "761999  2021-01-03 01:29:21 2021-01-03 01:33:52 2021-01-03 01:34:14   \n",
      "780299  2021-01-03 04:27:19 2021-01-03 04:28:57 2021-01-03 04:30:09   \n",
      "780300  2021-01-03 04:27:19 2021-01-03 04:28:57 2021-01-03 04:30:09   \n",
      "785266  2021-01-03 05:21:35 2021-01-03 05:25:13 2021-01-03 05:26:12   \n",
      "785267  2021-01-03 05:50:32 2021-01-03 05:55:29 2021-01-03 05:56:15   \n",
      "785268  2021-01-03 05:21:35 2021-01-03 05:25:13 2021-01-03 05:26:12   \n",
      "785269  2021-01-03 05:50:32 2021-01-03 05:55:29 2021-01-03 05:56:15   \n",
      "791977  2021-01-03 06:01:55 2021-01-03 06:09:02 2021-01-03 06:10:21   \n",
      "791978  2021-01-03 06:14:55 2021-01-03 06:19:42 2021-01-03 06:21:42   \n",
      "791979  2021-01-03 06:23:31 2021-01-03 06:29:27 2021-01-03 06:29:45   \n",
      "791980  2021-01-03 06:34:43 2021-01-03 06:48:41 2021-01-03 06:49:17   \n",
      "791981  2021-01-03 06:01:55 2021-01-03 06:09:02 2021-01-03 06:10:21   \n",
      "791982  2021-01-03 06:14:55 2021-01-03 06:19:42 2021-01-03 06:21:42   \n",
      "791983  2021-01-03 06:23:31 2021-01-03 06:29:27 2021-01-03 06:29:45   \n",
      "791984  2021-01-03 06:34:43 2021-01-03 06:48:41 2021-01-03 06:49:17   \n",
      "931374  2021-01-03 16:05:35 2021-01-03 16:09:14 2021-01-03 16:10:26   \n",
      "931375  2021-01-03 16:21:29 2021-01-03 16:27:05 2021-01-03 16:27:30   \n",
      "931376  2021-01-03 16:05:35 2021-01-03 16:09:14 2021-01-03 16:10:26   \n",
      "931377  2021-01-03 16:21:29 2021-01-03 16:27:05 2021-01-03 16:27:30   \n",
      "950550  2021-01-03 17:08:53 2021-01-03 17:13:29 2021-01-03 17:14:10   \n",
      "950551  2021-01-03 17:21:38 2021-01-03 17:30:05 2021-01-03 17:30:21   \n",
      "950552  2021-01-03 17:53:59 2021-01-03 17:57:41 2021-01-03 17:59:42   \n",
      "950553  2021-01-03 17:08:53 2021-01-03 17:13:29 2021-01-03 17:14:10   \n",
      "950554  2021-01-03 17:21:38 2021-01-03 17:30:05 2021-01-03 17:30:21   \n",
      "950555  2021-01-03 17:53:59 2021-01-03 17:57:41 2021-01-03 17:59:42   \n",
      "986372  2021-01-03 19:27:32 2021-01-03 19:32:37 2021-01-03 19:33:07   \n",
      "986373  2021-01-03 19:39:10 2021-01-03 19:43:23 2021-01-03 19:43:23   \n",
      "986374  2021-01-03 19:47:02 2021-01-03 19:51:25 2021-01-03 19:51:38   \n",
      "986376  2021-01-03 19:27:32 2021-01-03 19:32:37 2021-01-03 19:33:07   \n",
      "986377  2021-01-03 19:39:10 2021-01-03 19:43:23 2021-01-03 19:43:23   \n",
      "986378  2021-01-03 19:47:02 2021-01-03 19:51:25 2021-01-03 19:51:38   \n",
      "1001368 2021-01-03 20:05:10 2021-01-03 20:08:49 2021-01-03 20:10:46   \n",
      "1001370 2021-01-03 20:05:10 2021-01-03 20:08:49 2021-01-03 20:10:46   \n",
      "1014530 2021-01-03 21:14:55 2021-01-03 21:17:55 2021-01-03 21:18:17   \n",
      "1014531 2021-01-03 21:52:03 2021-01-03 21:54:51 2021-01-03 21:56:51   \n",
      "1014533 2021-01-03 21:14:55 2021-01-03 21:17:55 2021-01-03 21:18:17   \n",
      "1014534 2021-01-03 21:52:03 2021-01-03 21:54:51 2021-01-03 21:56:51   \n",
      "1038688 2021-01-03 23:36:51 2021-01-03 23:43:25 2021-01-03 23:43:39   \n",
      "1038689 2021-01-03 23:54:51 2021-01-03 23:57:41 2021-01-03 23:57:54   \n",
      "1038690 2021-01-03 23:36:51 2021-01-03 23:43:25 2021-01-03 23:43:39   \n",
      "1038691 2021-01-03 23:54:51 2021-01-03 23:57:41 2021-01-03 23:57:54   \n",
      "\n",
      "           dropoff_datetime  PULocationID  DOLocationID  trip_miles  ...  \\\n",
      "750632  2021-01-03 00:20:16           107            50        2.49  ...   \n",
      "750633  2021-01-03 00:39:31            48           114        2.67  ...   \n",
      "750634  2021-01-03 01:27:41           249            84       21.87  ...   \n",
      "750635  2021-01-03 00:20:16           107            50        2.49  ...   \n",
      "750636  2021-01-03 00:39:31            48           114        2.67  ...   \n",
      "750637  2021-01-03 01:27:41           249            84       21.87  ...   \n",
      "751647  2021-01-03 00:48:30            71            39        3.20  ...   \n",
      "751648  2021-01-03 00:48:30            71            39        3.20  ...   \n",
      "761996  2021-01-03 01:29:59            39            37        6.22  ...   \n",
      "761997  2021-01-03 01:49:31            36            17        2.94  ...   \n",
      "761998  2021-01-03 01:29:59            39            37        6.22  ...   \n",
      "761999  2021-01-03 01:49:31            36            17        2.94  ...   \n",
      "780299  2021-01-03 04:43:51            80           231        5.11  ...   \n",
      "780300  2021-01-03 04:43:51            80           231        5.11  ...   \n",
      "785266  2021-01-03 05:45:05            74            32        8.86  ...   \n",
      "785267  2021-01-03 06:07:39           169           212        3.66  ...   \n",
      "785268  2021-01-03 05:45:05            74            32        8.86  ...   \n",
      "785269  2021-01-03 06:07:39           169           212        3.66  ...   \n",
      "791977  2021-01-03 06:16:26           212           147        1.24  ...   \n",
      "791978  2021-01-03 06:25:29           167           159        1.07  ...   \n",
      "791979  2021-01-03 06:41:39           168           126        4.05  ...   \n",
      "791980  2021-01-03 07:09:47           212           143       11.92  ...   \n",
      "791981  2021-01-03 06:16:26           212           147        1.24  ...   \n",
      "791982  2021-01-03 06:25:29           167           159        1.07  ...   \n",
      "791983  2021-01-03 06:41:39           168           126        4.05  ...   \n",
      "791984  2021-01-03 07:09:47           212           143       11.92  ...   \n",
      "931374  2021-01-03 16:20:33            81           174        1.88  ...   \n",
      "931375  2021-01-03 16:39:02           174           265        4.86  ...   \n",
      "931376  2021-01-03 16:20:33            81           174        1.88  ...   \n",
      "931377  2021-01-03 16:39:02           174           265        4.86  ...   \n",
      "950550  2021-01-03 17:24:34           220           127        1.81  ...   \n",
      "950551  2021-01-03 17:46:52           127            69        4.19  ...   \n",
      "950552  2021-01-03 18:11:07            69           168        1.89  ...   \n",
      "950553  2021-01-03 17:24:34           220           127        1.81  ...   \n",
      "950554  2021-01-03 17:46:52           127            69        4.19  ...   \n",
      "950555  2021-01-03 18:11:07            69           168        1.89  ...   \n",
      "986372  2021-01-03 19:40:09            42           116        1.35  ...   \n",
      "986373  2021-01-03 19:47:04           116           116        0.47  ...   \n",
      "986374  2021-01-03 19:59:50           116           244        1.59  ...   \n",
      "986376  2021-01-03 19:40:09            42           116        1.35  ...   \n",
      "986377  2021-01-03 19:47:04           116           116        0.47  ...   \n",
      "986378  2021-01-03 19:59:50           116           244        1.59  ...   \n",
      "1001368 2021-01-03 20:30:43           244           229        9.40  ...   \n",
      "1001370 2021-01-03 20:30:43           244           229        9.40  ...   \n",
      "1014530 2021-01-03 21:38:28           143            87        7.69  ...   \n",
      "1014531 2021-01-03 22:31:17            87            15       17.39  ...   \n",
      "1014533 2021-01-03 21:38:28           143            87        7.69  ...   \n",
      "1014534 2021-01-03 22:31:17            87            15       17.39  ...   \n",
      "1038688 2021-01-03 23:53:04             9            16        1.99  ...   \n",
      "1038689 2021-01-04 00:06:51            16            98        2.96  ...   \n",
      "1038690 2021-01-03 23:53:04             9            16        1.99  ...   \n",
      "1038691 2021-01-04 00:06:51            16            98        2.96  ...   \n",
      "\n",
      "         sales_tax  congestion_surcharge  airport_fee  tips  driver_pay  \\\n",
      "750632        0.98                  2.75          NaN  0.00        9.81   \n",
      "750633        1.10                  2.75          NaN  0.00       11.32   \n",
      "750634        5.25                  2.75          NaN  0.00       47.59   \n",
      "750635        0.98                  2.75          NaN  0.00        9.81   \n",
      "750636        1.10                  2.75          NaN  0.00       11.32   \n",
      "750637        5.25                  2.75          NaN  0.00       47.59   \n",
      "751647        1.18                  0.00          NaN  0.00       10.46   \n",
      "751648        1.18                  0.00          NaN  0.00       10.46   \n",
      "761996        2.04                  0.00          NaN  0.00       21.37   \n",
      "761997        2.00                  0.00          NaN  0.00       10.91   \n",
      "761998        2.04                  0.00          NaN  0.00       21.37   \n",
      "761999        2.00                  0.00          NaN  0.00       10.91   \n",
      "780299        1.76                  2.75          NaN  0.00       12.52   \n",
      "780300        1.76                  2.75          NaN  0.00       12.52   \n",
      "785266        1.55                  0.00          NaN  0.00       19.25   \n",
      "785267        1.29                  0.00          NaN  0.00       12.01   \n",
      "785268        1.55                  0.00          NaN  0.00       19.25   \n",
      "785269        1.29                  0.00          NaN  0.00       12.01   \n",
      "791977        0.70                  0.00          NaN  0.00        5.40   \n",
      "791978        0.64                  0.00          NaN  0.00        5.50   \n",
      "791979        1.39                  0.00          NaN  0.00       10.45   \n",
      "791980        2.91                  2.75          NaN  0.00       29.19   \n",
      "791981        0.70                  0.00          NaN  0.00        5.40   \n",
      "791982        0.64                  0.00          NaN  0.00        5.50   \n",
      "791983        1.39                  0.00          NaN  0.00       10.45   \n",
      "791984        2.91                  2.75          NaN  0.00       29.19   \n",
      "931374        1.00                  0.00          NaN  0.00        8.99   \n",
      "931375        1.34                  0.00          NaN  0.00       14.87   \n",
      "931376        1.00                  0.00          NaN  0.00        8.99   \n",
      "931377        1.34                  0.00          NaN  0.00       14.87   \n",
      "950550        0.85                  0.00          NaN  2.82        9.06   \n",
      "950551        1.24                  0.00          NaN  0.00       14.76   \n",
      "950552        1.20                  0.00          NaN  0.00        9.66   \n",
      "950553        0.85                  0.00          NaN  2.82        9.06   \n",
      "950554        1.24                  0.00          NaN  0.00       14.76   \n",
      "950555        1.20                  0.00          NaN  0.00        9.66   \n",
      "986372        0.63                  0.00          NaN  0.00        7.23   \n",
      "986373        0.77                  0.00          NaN  0.00        7.23   \n",
      "986374        0.67                  0.00          NaN  0.00        7.72   \n",
      "986376        0.63                  0.00          NaN  0.00        7.23   \n",
      "986377        0.77                  0.00          NaN  0.00        7.23   \n",
      "986378        0.67                  0.00          NaN  0.00        7.72   \n",
      "1001368       2.54                  2.75          NaN  0.00       22.22   \n",
      "1001370       2.54                  2.75          NaN  0.00       22.22   \n",
      "1014530       2.58                  2.75          NaN  0.00       20.45   \n",
      "1014531       4.51                  2.75          NaN  0.00       38.32   \n",
      "1014533       2.58                  2.75          NaN  0.00       20.45   \n",
      "1014534       4.51                  2.75          NaN  0.00       38.32   \n",
      "1038688       0.98                  0.00          NaN  0.00        6.93   \n",
      "1038689       0.78                  0.00          NaN  0.00        7.75   \n",
      "1038690       0.98                  0.00          NaN  0.00        6.93   \n",
      "1038691       0.78                  0.00          NaN  0.00        7.75   \n",
      "\n",
      "         shared_request_flag  shared_match_flag  access_a_ride_flag  \\\n",
      "750632                     N                  N                       \n",
      "750633                     N                  N                       \n",
      "750634                     N                  N                       \n",
      "750635                     N                  N                       \n",
      "750636                     N                  N                       \n",
      "750637                     N                  N                       \n",
      "751647                     N                  N                       \n",
      "751648                     N                  N                       \n",
      "761996                     N                  N                       \n",
      "761997                     N                  N                       \n",
      "761998                     N                  N                       \n",
      "761999                     N                  N                       \n",
      "780299                     N                  N                       \n",
      "780300                     N                  N                       \n",
      "785266                     N                  N                       \n",
      "785267                     N                  N                       \n",
      "785268                     N                  N                       \n",
      "785269                     N                  N                       \n",
      "791977                     N                  N                       \n",
      "791978                     N                  N                       \n",
      "791979                     N                  N                       \n",
      "791980                     N                  N                       \n",
      "791981                     N                  N                       \n",
      "791982                     N                  N                       \n",
      "791983                     N                  N                       \n",
      "791984                     N                  N                       \n",
      "931374                     N                  N                       \n",
      "931375                     N                  N                       \n",
      "931376                     N                  N                       \n",
      "931377                     N                  N                       \n",
      "950550                     N                  N                       \n",
      "950551                     N                  N                       \n",
      "950552                     N                  N                       \n",
      "950553                     N                  N                       \n",
      "950554                     N                  N                       \n",
      "950555                     N                  N                       \n",
      "986372                     N                  N                       \n",
      "986373                     N                  N                       \n",
      "986374                     N                  N                       \n",
      "986376                     N                  N                       \n",
      "986377                     N                  N                       \n",
      "986378                     N                  N                       \n",
      "1001368                    N                  N                       \n",
      "1001370                    N                  N                       \n",
      "1014530                    N                  N                       \n",
      "1014531                    N                  N                       \n",
      "1014533                    N                  N                       \n",
      "1014534                    N                  N                       \n",
      "1038688                    N                  N                       \n",
      "1038689                    N                  N                       \n",
      "1038690                    N                  N                       \n",
      "1038691                    N                  N                       \n",
      "\n",
      "         wav_request_flag wav_match_flag  \n",
      "750632                  N              N  \n",
      "750633                  N              N  \n",
      "750634                  N              N  \n",
      "750635                  N              N  \n",
      "750636                  N              N  \n",
      "750637                  N              N  \n",
      "751647                  N              N  \n",
      "751648                  N              N  \n",
      "761996                  N              N  \n",
      "761997                  N              N  \n",
      "761998                  N              N  \n",
      "761999                  N              N  \n",
      "780299                  N              N  \n",
      "780300                  N              N  \n",
      "785266                  N              N  \n",
      "785267                  N              N  \n",
      "785268                  N              N  \n",
      "785269                  N              N  \n",
      "791977                  N              N  \n",
      "791978                  N              N  \n",
      "791979                  N              N  \n",
      "791980                  N              N  \n",
      "791981                  N              N  \n",
      "791982                  N              N  \n",
      "791983                  N              N  \n",
      "791984                  N              N  \n",
      "931374                  N              N  \n",
      "931375                  N              N  \n",
      "931376                  N              N  \n",
      "931377                  N              N  \n",
      "950550                  N              N  \n",
      "950551                  N              N  \n",
      "950552                  N              N  \n",
      "950553                  N              N  \n",
      "950554                  N              N  \n",
      "950555                  N              N  \n",
      "986372                  N              N  \n",
      "986373                  N              N  \n",
      "986374                  N              N  \n",
      "986376                  N              N  \n",
      "986377                  N              N  \n",
      "986378                  N              N  \n",
      "1001368                 N              N  \n",
      "1001370                 N              N  \n",
      "1014530                 N              N  \n",
      "1014531                 N              N  \n",
      "1014533                 N              N  \n",
      "1014534                 N              N  \n",
      "1038688                 N              N  \n",
      "1038689                 N              N  \n",
      "1038690                 N              N  \n",
      "1038691                 N              N  \n",
      "\n",
      "[52 rows x 24 columns]\n"
     ]
    }
   ],
   "source": [
    "# Find rows where all fields (all columns) are duplicated\n",
    "jan_duplicated_rows = jan[jan.duplicated(keep=False, subset=apr.columns)]\n",
    "\n",
    "# Displaying duplicated rows\n",
    "print(jan_duplicated_rows)"
   ]
  },
  {
   "cell_type": "code",
   "execution_count": 40,
   "id": "af1e5dd4-df38-4e1d-9590-b87d8fed89e7",
   "metadata": {},
   "outputs": [
    {
     "data": {
      "text/plain": [
       "(11908442, 24)"
      ]
     },
     "execution_count": 40,
     "metadata": {},
     "output_type": "execute_result"
    }
   ],
   "source": [
    "jan = jan.drop_duplicates()\n",
    "jan.shape"
   ]
  },
  {
   "cell_type": "code",
   "execution_count": 5,
   "id": "0e77fe16-ce60-4ace-93e3-544891730b9d",
   "metadata": {},
   "outputs": [
    {
     "name": "stdout",
     "output_type": "stream",
     "text": [
      "        hvfhs_license_num dispatching_base_num originating_base_num  \\\n",
      "4825565            HV0003               B02866               B02866   \n",
      "4825566            HV0003               B02866               B02866   \n",
      "4825567            HV0003               B02866               B02866   \n",
      "4825568            HV0003               B02866               B02866   \n",
      "4862660            HV0003               B02866               B02866   \n",
      "4862661            HV0003               B02866               B02866   \n",
      "4862662            HV0003               B02866               B02866   \n",
      "4862663            HV0003               B02866               B02866   \n",
      "4880552            HV0003               B02866               B02866   \n",
      "4880553            HV0003               B02866               B02866   \n",
      "5116025            HV0003               B02866               B02866   \n",
      "5116026            HV0003               B02866               B02866   \n",
      "5143268            HV0003               B02866               B02866   \n",
      "5143271            HV0003               B02866               B02866   \n",
      "5169905            HV0003               B02866               B02866   \n",
      "5169906            HV0003               B02866               B02866   \n",
      "5169907            HV0003               B02866               B02866   \n",
      "5169908            HV0003               B02866               B02866   \n",
      "5195503            HV0003               B02866               B02866   \n",
      "5195504            HV0003               B02866               B02866   \n",
      "5195505            HV0003               B02866               B02866   \n",
      "5195506            HV0003               B02866               B02866   \n",
      "5218851            HV0003               B02866               B02866   \n",
      "5218852            HV0003               B02866               B02866   \n",
      "5218853            HV0003               B02866               B02866   \n",
      "5218854            HV0003               B02866               B02866   \n",
      "5240919            HV0003               B02866               B02866   \n",
      "5240920            HV0003               B02866               B02866   \n",
      "5240921            HV0003               B02866               B02866   \n",
      "5240922            HV0003               B02866               B02866   \n",
      "5240923            HV0003               B02866               B02866   \n",
      "5240924            HV0003               B02866               B02866   \n",
      "5240925            HV0003               B02866               B02866   \n",
      "5240926            HV0003               B02866               B02866   \n",
      "5260447            HV0003               B02866               B02866   \n",
      "5260450            HV0003               B02866               B02866   \n",
      "5277251            HV0003               B02866               B02866   \n",
      "5277253            HV0003               B02866               B02866   \n",
      "5287601            HV0003               B02866               B02866   \n",
      "5287602            HV0003               B02866               B02866   \n",
      "5287603            HV0003               B02866               B02866   \n",
      "5287604            HV0003               B02866               B02866   \n",
      "5293460            HV0003               B02866               B02866   \n",
      "5293461            HV0003               B02866               B02866   \n",
      "5293462            HV0003               B02866               B02866   \n",
      "5293464            HV0003               B02866               B02866   \n",
      "5293465            HV0003               B02866               B02866   \n",
      "5293466            HV0003               B02866               B02866   \n",
      "5297824            HV0003               B02866               B02866   \n",
      "5297825            HV0003               B02866               B02866   \n",
      "\n",
      "           request_datetime   on_scene_datetime     pickup_datetime  \\\n",
      "4825565 2021-04-11 00:16:07 2021-04-11 00:19:42 2021-04-11 00:20:37   \n",
      "4825566 2021-04-11 00:47:25 2021-04-11 00:49:30 2021-04-11 00:50:28   \n",
      "4825567 2021-04-11 00:16:07 2021-04-11 00:19:42 2021-04-11 00:20:37   \n",
      "4825568 2021-04-11 00:47:25 2021-04-11 00:49:30 2021-04-11 00:50:28   \n",
      "4862660 2021-04-11 02:04:14 2021-04-11 02:09:18 2021-04-11 02:09:28   \n",
      "4862661 2021-04-11 02:29:37 2021-04-11 02:36:22 2021-04-11 02:36:54   \n",
      "4862662 2021-04-11 02:04:14 2021-04-11 02:09:18 2021-04-11 02:09:28   \n",
      "4862663 2021-04-11 02:29:37 2021-04-11 02:36:22 2021-04-11 02:36:54   \n",
      "4880552 2021-04-11 03:56:44 2021-04-11 04:03:51 2021-04-11 04:04:08   \n",
      "4880553 2021-04-11 03:56:44 2021-04-11 04:03:51 2021-04-11 04:04:08   \n",
      "5116025 2021-04-11 16:31:39 2021-04-11 16:35:31 2021-04-11 16:37:24   \n",
      "5116026 2021-04-11 16:31:39 2021-04-11 16:35:31 2021-04-11 16:37:24   \n",
      "5143268 2021-04-11 17:46:40 2021-04-11 17:48:55 2021-04-11 17:49:13   \n",
      "5143271 2021-04-11 17:46:40 2021-04-11 17:48:55 2021-04-11 17:49:13   \n",
      "5169905 2021-04-11 18:10:23 2021-04-11 18:12:51 2021-04-11 18:14:51   \n",
      "5169906 2021-04-11 18:39:45 2021-04-11 18:43:07 2021-04-11 18:43:13   \n",
      "5169907 2021-04-11 18:10:23 2021-04-11 18:12:51 2021-04-11 18:14:51   \n",
      "5169908 2021-04-11 18:39:45 2021-04-11 18:43:07 2021-04-11 18:43:13   \n",
      "5195503 2021-04-11 19:07:08 2021-04-11 19:10:03 2021-04-11 19:12:02   \n",
      "5195504 2021-04-11 19:40:12 2021-04-11 19:43:03 2021-04-11 19:44:47   \n",
      "5195505 2021-04-11 19:07:08 2021-04-11 19:10:03 2021-04-11 19:12:02   \n",
      "5195506 2021-04-11 19:40:12 2021-04-11 19:43:03 2021-04-11 19:44:47   \n",
      "5218851 2021-04-11 20:00:00 2021-04-11 19:58:19 2021-04-11 20:00:33   \n",
      "5218852 2021-04-11 20:44:55 2021-04-11 20:47:24 2021-04-11 20:47:33   \n",
      "5218853 2021-04-11 20:00:00 2021-04-11 19:58:19 2021-04-11 20:00:33   \n",
      "5218854 2021-04-11 20:44:55 2021-04-11 20:47:24 2021-04-11 20:47:33   \n",
      "5240919 2021-04-11 21:13:12 2021-04-11 21:18:36 2021-04-11 21:20:13   \n",
      "5240920 2021-04-11 21:28:13 2021-04-11 21:35:00 2021-04-11 21:35:08   \n",
      "5240921 2021-04-11 21:46:01 2021-04-11 21:50:32 2021-04-11 21:50:42   \n",
      "5240922 2021-04-11 21:54:28 2021-04-11 21:55:20 2021-04-11 21:55:44   \n",
      "5240923 2021-04-11 21:13:12 2021-04-11 21:18:36 2021-04-11 21:20:13   \n",
      "5240924 2021-04-11 21:28:13 2021-04-11 21:35:00 2021-04-11 21:35:08   \n",
      "5240925 2021-04-11 21:46:01 2021-04-11 21:50:32 2021-04-11 21:50:42   \n",
      "5240926 2021-04-11 21:54:28 2021-04-11 21:55:20 2021-04-11 21:55:44   \n",
      "5260447 2021-04-11 22:10:42 2021-04-11 22:18:32 2021-04-11 22:18:33   \n",
      "5260450 2021-04-11 22:10:42 2021-04-11 22:18:32 2021-04-11 22:18:33   \n",
      "5277251 2021-04-11 23:47:03 2021-04-11 23:52:54 2021-04-11 23:52:54   \n",
      "5277253 2021-04-11 23:47:03 2021-04-11 23:52:54 2021-04-11 23:52:54   \n",
      "5287601 2021-04-12 00:10:12 2021-04-12 00:14:08 2021-04-12 00:14:31   \n",
      "5287602 2021-04-12 00:30:18 2021-04-12 00:32:44 2021-04-12 00:34:17   \n",
      "5287603 2021-04-12 00:10:12 2021-04-12 00:14:08 2021-04-12 00:14:31   \n",
      "5287604 2021-04-12 00:30:18 2021-04-12 00:32:44 2021-04-12 00:34:17   \n",
      "5293460 2021-04-12 01:14:32 2021-04-12 01:15:25 2021-04-12 01:16:34   \n",
      "5293461 2021-04-12 01:24:02 2021-04-12 01:25:25 2021-04-12 01:25:36   \n",
      "5293462 2021-04-12 01:40:43 2021-04-12 01:41:45 2021-04-12 01:43:44   \n",
      "5293464 2021-04-12 01:14:32 2021-04-12 01:15:25 2021-04-12 01:16:34   \n",
      "5293465 2021-04-12 01:24:02 2021-04-12 01:25:25 2021-04-12 01:25:36   \n",
      "5293466 2021-04-12 01:40:43 2021-04-12 01:41:45 2021-04-12 01:43:44   \n",
      "5297824 2021-04-12 02:15:44 2021-04-12 02:19:09 2021-04-12 02:19:32   \n",
      "5297825 2021-04-12 02:15:44 2021-04-12 02:19:09 2021-04-12 02:19:32   \n",
      "\n",
      "           dropoff_datetime  PULocationID  DOLocationID  trip_miles  ...  \\\n",
      "4825565 2021-04-11 00:46:24           198            39        5.40  ...   \n",
      "4825566 2021-04-11 00:57:39            39            39        1.63  ...   \n",
      "4825567 2021-04-11 00:46:24           198            39        5.40  ...   \n",
      "4825568 2021-04-11 00:57:39            39            39        1.63  ...   \n",
      "4862660 2021-04-11 02:34:51            26           164       12.15  ...   \n",
      "4862661 2021-04-11 03:00:58           186           220       11.72  ...   \n",
      "4862662 2021-04-11 02:34:51            26           164       12.15  ...   \n",
      "4862663 2021-04-11 03:00:58           186           220       11.72  ...   \n",
      "4880552 2021-04-11 04:08:34           248           248        0.72  ...   \n",
      "4880553 2021-04-11 04:08:34           248           248        0.72  ...   \n",
      "5116025 2021-04-11 17:00:23           215            76        6.87  ...   \n",
      "5116026 2021-04-11 17:00:23           215            76        6.87  ...   \n",
      "5143268 2021-04-11 18:08:52           218            28        4.41  ...   \n",
      "5143271 2021-04-11 18:08:52           218            28        4.41  ...   \n",
      "5169905 2021-04-11 18:39:27            28            36        9.24  ...   \n",
      "5169906 2021-04-11 19:07:03            36           129        7.26  ...   \n",
      "5169907 2021-04-11 18:39:27            28            36        9.24  ...   \n",
      "5169908 2021-04-11 19:07:03            36           129        7.26  ...   \n",
      "5195503 2021-04-11 19:37:17           129            32       11.84  ...   \n",
      "5195504 2021-04-11 19:50:21            32           254        1.07  ...   \n",
      "5195505 2021-04-11 19:37:17           129            32       11.84  ...   \n",
      "5195506 2021-04-11 19:50:21            32           254        1.07  ...   \n",
      "5218851 2021-04-11 20:21:21            81            73       11.02  ...   \n",
      "5218852 2021-04-11 21:07:26           171           260        7.47  ...   \n",
      "5218853 2021-04-11 20:21:21            81            73       11.02  ...   \n",
      "5218854 2021-04-11 21:07:26           171           260        7.47  ...   \n",
      "5240919 2021-04-11 21:32:43           260           260        1.43  ...   \n",
      "5240920 2021-04-11 21:46:46           260             7        3.27  ...   \n",
      "5240921 2021-04-11 21:54:12             7           223        0.68  ...   \n",
      "5240922 2021-04-11 22:06:51           223            69        5.12  ...   \n",
      "5240923 2021-04-11 21:32:43           260           260        1.43  ...   \n",
      "5240924 2021-04-11 21:46:46           260             7        3.27  ...   \n",
      "5240925 2021-04-11 21:54:12             7           223        0.68  ...   \n",
      "5240926 2021-04-11 22:06:51           223            69        5.12  ...   \n",
      "5260447 2021-04-11 22:22:12           167            47        0.53  ...   \n",
      "5260450 2021-04-11 22:22:12           167            47        0.53  ...   \n",
      "5277251 2021-04-12 00:05:15           127           235        2.06  ...   \n",
      "5277253 2021-04-12 00:05:15           127           235        2.06  ...   \n",
      "5287601 2021-04-12 00:26:17           235           247        4.41  ...   \n",
      "5287602 2021-04-12 00:40:14           247            74        1.65  ...   \n",
      "5287603 2021-04-12 00:26:17           235           247        4.41  ...   \n",
      "5287604 2021-04-12 00:40:14           247            74        1.65  ...   \n",
      "5293460 2021-04-12 01:20:02            24           166        0.62  ...   \n",
      "5293461 2021-04-12 01:39:55           166           235        5.76  ...   \n",
      "5293462 2021-04-12 02:00:27           235             3        7.12  ...   \n",
      "5293464 2021-04-12 01:20:02            24           166        0.62  ...   \n",
      "5293465 2021-04-12 01:39:55           166           235        5.76  ...   \n",
      "5293466 2021-04-12 02:00:27           235             3        7.12  ...   \n",
      "5297824 2021-04-12 02:46:58             3            32        5.76  ...   \n",
      "5297825 2021-04-12 02:46:58             3            32        5.76  ...   \n",
      "\n",
      "         sales_tax  congestion_surcharge  airport_fee  tips  driver_pay  \\\n",
      "4825565       2.29                  0.00          0.0  0.00       18.91   \n",
      "4825566       0.68                  0.00          0.0  0.00        5.41   \n",
      "4825567       2.29                  0.00          0.0  0.00       18.91   \n",
      "4825568       0.68                  0.00          0.0  0.00        5.41   \n",
      "4862660       3.91                  2.75          0.0  0.00       26.14   \n",
      "4862661       2.79                  2.75          0.0  0.00       26.01   \n",
      "4862662       3.91                  2.75          0.0  0.00       26.14   \n",
      "4862663       2.79                  2.75          0.0  0.00       26.01   \n",
      "4880552       0.70                  0.00          0.0  0.00        5.40   \n",
      "4880553       0.70                  0.00          0.0  0.00        5.40   \n",
      "5116025       2.34                  0.00          0.0  0.00       19.12   \n",
      "5116026       2.34                  0.00          0.0  0.00       19.12   \n",
      "5143268       1.71                  0.00          0.0  0.00       14.73   \n",
      "5143271       1.71                  0.00          0.0  0.00       14.73   \n",
      "5169905       2.38                  0.00          0.0  0.00       22.54   \n",
      "5169906       2.75                  0.00          0.0  0.00       19.97   \n",
      "5169907       2.38                  0.00          0.0  0.00       22.54   \n",
      "5169908       2.75                  0.00          0.0  0.00       19.97   \n",
      "5195503       3.57                  0.00          0.0  0.00       25.74   \n",
      "5195504       0.70                  0.00          0.0  0.00        5.40   \n",
      "5195505       3.57                  0.00          0.0  0.00       25.74   \n",
      "5195506       0.70                  0.00          0.0  0.00        5.40   \n",
      "5218851       3.34                  0.00          0.0  0.00       22.72   \n",
      "5218852       2.33                  0.00          0.0  0.00       18.22   \n",
      "5218853       3.34                  0.00          0.0  0.00       22.72   \n",
      "5218854       2.33                  0.00          0.0  0.00       18.22   \n",
      "5240919       0.70                  0.00          0.0  0.00        7.86   \n",
      "5240920       1.12                  0.00          0.0  3.00        9.45   \n",
      "5240921       0.70                  0.00          0.0  0.00        5.40   \n",
      "5240922       2.01                  0.00          0.0  5.06       11.23   \n",
      "5240923       0.70                  0.00          0.0  0.00        7.86   \n",
      "5240924       1.12                  0.00          0.0  3.00        9.45   \n",
      "5240925       0.70                  0.00          0.0  0.00        5.40   \n",
      "5240926       2.01                  0.00          0.0  5.06       11.23   \n",
      "5260447       0.70                  0.00          0.0  0.00        5.40   \n",
      "5260450       0.70                  0.00          0.0  0.00        5.40   \n",
      "5277251       1.00                  0.00          0.0  0.00        9.47   \n",
      "5277253       1.00                  0.00          0.0  0.00        9.47   \n",
      "5287601       1.04                  0.00          0.0  0.00       10.78   \n",
      "5287602       0.77                  0.00          0.0  0.00        5.40   \n",
      "5287603       1.04                  0.00          0.0  0.00       10.78   \n",
      "5287604       0.77                  0.00          0.0  0.00        5.40   \n",
      "5293460       0.70                  0.00          0.0  0.00        5.39   \n",
      "5293461       1.97                  0.00          0.0  0.00       13.54   \n",
      "5293462       1.27                  0.00          0.0  0.00       16.25   \n",
      "5293464       0.70                  0.00          0.0  0.00        5.39   \n",
      "5293465       1.97                  0.00          0.0  0.00       13.54   \n",
      "5293466       1.27                  0.00          0.0  0.00       16.25   \n",
      "5297824       2.04                  0.00          0.0  0.00       20.12   \n",
      "5297825       2.04                  0.00          0.0  0.00       20.12   \n",
      "\n",
      "         shared_request_flag  shared_match_flag  access_a_ride_flag  \\\n",
      "4825565                    N                  N                       \n",
      "4825566                    N                  N                       \n",
      "4825567                    N                  N                       \n",
      "4825568                    N                  N                       \n",
      "4862660                    N                  N                       \n",
      "4862661                    N                  N                       \n",
      "4862662                    N                  N                       \n",
      "4862663                    N                  N                       \n",
      "4880552                    N                  N                       \n",
      "4880553                    N                  N                       \n",
      "5116025                    N                  N                       \n",
      "5116026                    N                  N                       \n",
      "5143268                    N                  N                       \n",
      "5143271                    N                  N                       \n",
      "5169905                    N                  N                       \n",
      "5169906                    N                  N                       \n",
      "5169907                    N                  N                       \n",
      "5169908                    N                  N                       \n",
      "5195503                    N                  N                       \n",
      "5195504                    N                  N                       \n",
      "5195505                    N                  N                       \n",
      "5195506                    N                  N                       \n",
      "5218851                    N                  N                       \n",
      "5218852                    N                  N                       \n",
      "5218853                    N                  N                       \n",
      "5218854                    N                  N                       \n",
      "5240919                    N                  N                       \n",
      "5240920                    N                  N                       \n",
      "5240921                    N                  N                       \n",
      "5240922                    N                  N                       \n",
      "5240923                    N                  N                       \n",
      "5240924                    N                  N                       \n",
      "5240925                    N                  N                       \n",
      "5240926                    N                  N                       \n",
      "5260447                    N                  N                       \n",
      "5260450                    N                  N                       \n",
      "5277251                    N                  N                       \n",
      "5277253                    N                  N                       \n",
      "5287601                    N                  N                       \n",
      "5287602                    N                  N                       \n",
      "5287603                    N                  N                       \n",
      "5287604                    N                  N                       \n",
      "5293460                    N                  N                       \n",
      "5293461                    N                  N                       \n",
      "5293462                    N                  N                       \n",
      "5293464                    N                  N                       \n",
      "5293465                    N                  N                       \n",
      "5293466                    N                  N                       \n",
      "5297824                    N                  N                       \n",
      "5297825                    N                  N                       \n",
      "\n",
      "         wav_request_flag wav_match_flag  \n",
      "4825565                 N              N  \n",
      "4825566                 N              N  \n",
      "4825567                 N              N  \n",
      "4825568                 N              N  \n",
      "4862660                 N              N  \n",
      "4862661                 N              N  \n",
      "4862662                 N              N  \n",
      "4862663                 N              N  \n",
      "4880552                 N              N  \n",
      "4880553                 N              N  \n",
      "5116025                 N              N  \n",
      "5116026                 N              N  \n",
      "5143268                 N              N  \n",
      "5143271                 N              N  \n",
      "5169905                 N              N  \n",
      "5169906                 N              N  \n",
      "5169907                 N              N  \n",
      "5169908                 N              N  \n",
      "5195503                 N              N  \n",
      "5195504                 N              N  \n",
      "5195505                 N              N  \n",
      "5195506                 N              N  \n",
      "5218851                 N              N  \n",
      "5218852                 N              N  \n",
      "5218853                 N              N  \n",
      "5218854                 N              N  \n",
      "5240919                 N              N  \n",
      "5240920                 N              N  \n",
      "5240921                 N              N  \n",
      "5240922                 N              N  \n",
      "5240923                 N              N  \n",
      "5240924                 N              N  \n",
      "5240925                 N              N  \n",
      "5240926                 N              N  \n",
      "5260447                 N              N  \n",
      "5260450                 N              N  \n",
      "5277251                 N              N  \n",
      "5277253                 N              N  \n",
      "5287601                 N              N  \n",
      "5287602                 N              N  \n",
      "5287603                 N              N  \n",
      "5287604                 N              N  \n",
      "5293460                 N              N  \n",
      "5293461                 N              N  \n",
      "5293462                 N              N  \n",
      "5293464                 N              N  \n",
      "5293465                 N              N  \n",
      "5293466                 N              N  \n",
      "5297824                 N              N  \n",
      "5297825                 N              N  \n",
      "\n",
      "[50 rows x 24 columns]\n"
     ]
    }
   ],
   "source": [
    "# Find rows where all fields (all columns) are duplicated\n",
    "apr_duplicated_rows = apr[apr.duplicated(keep=False, subset=apr.columns)]\n",
    "\n",
    "# Displaying duplicated rows\n",
    "print(apr_duplicated_rows)"
   ]
  },
  {
   "cell_type": "code",
   "execution_count": 41,
   "id": "d655646c-606c-47cf-89a8-ed630c442dc2",
   "metadata": {},
   "outputs": [
    {
     "data": {
      "text/plain": [
       "(14111346, 24)"
      ]
     },
     "execution_count": 41,
     "metadata": {},
     "output_type": "execute_result"
    }
   ],
   "source": [
    "apr = apr.drop_duplicates()\n",
    "apr.shape"
   ]
  },
  {
   "cell_type": "code",
   "execution_count": 21,
   "id": "2ee6f97e-8d43-4094-a50a-e4d2dd7a290b",
   "metadata": {},
   "outputs": [
    {
     "name": "stdout",
     "output_type": "stream",
     "text": [
      "         hvfhs_license_num dispatching_base_num originating_base_num  \\\n",
      "522430              HV0005               B02510                 None   \n",
      "522431              HV0005               B02510                 None   \n",
      "554023              HV0005               B02510                 None   \n",
      "554024              HV0005               B02510                 None   \n",
      "554025              HV0005               B02510                 None   \n",
      "...                    ...                  ...                  ...   \n",
      "13521417            HV0005               B02510                 None   \n",
      "13521418            HV0005               B02510                 None   \n",
      "13521419            HV0005               B02510                 None   \n",
      "13576625            HV0005               B02510                 None   \n",
      "13576626            HV0005               B02510                 None   \n",
      "\n",
      "            request_datetime on_scene_datetime     pickup_datetime  \\\n",
      "522430   2021-05-01 23:47:32               NaT 2021-05-01 23:55:48   \n",
      "522431   2021-05-01 23:47:32               NaT 2021-05-01 23:55:48   \n",
      "554023   2021-05-02 00:02:49               NaT 2021-05-02 00:08:27   \n",
      "554024   2021-05-02 00:00:43               NaT 2021-05-02 00:14:23   \n",
      "554025   2021-05-02 00:34:56               NaT 2021-05-02 00:37:24   \n",
      "...                      ...               ...                 ...   \n",
      "13521417 2021-05-29 13:07:34               NaT 2021-05-29 13:13:43   \n",
      "13521418 2021-05-29 13:23:45               NaT 2021-05-29 13:27:08   \n",
      "13521419 2021-05-29 13:35:55               NaT 2021-05-29 13:44:28   \n",
      "13576625 2021-05-29 14:57:42               NaT 2021-05-29 15:03:54   \n",
      "13576626 2021-05-29 14:57:42               NaT 2021-05-29 15:03:54   \n",
      "\n",
      "            dropoff_datetime  PULocationID  DOLocationID  trip_miles  ...  \\\n",
      "522430   2021-05-02 00:04:19           246            48       1.471  ...   \n",
      "522431   2021-05-02 00:04:19           246            48       1.471  ...   \n",
      "554023   2021-05-02 00:11:59            48            48       0.715  ...   \n",
      "554024   2021-05-02 00:35:48            48           140       3.630  ...   \n",
      "554025   2021-05-02 00:46:09           262           107       3.586  ...   \n",
      "...                      ...           ...           ...         ...  ...   \n",
      "13521417 2021-05-29 13:23:16           142           141       1.747  ...   \n",
      "13521418 2021-05-29 13:39:19           140           209       5.644  ...   \n",
      "13521419 2021-05-29 13:55:36            87           144       2.060  ...   \n",
      "13576625 2021-05-29 15:15:49           247            47       2.334  ...   \n",
      "13576626 2021-05-29 15:15:49           247            47       2.334  ...   \n",
      "\n",
      "          sales_tax  congestion_surcharge  airport_fee  tips  driver_pay  \\\n",
      "522430         1.24                  2.75          0.0  0.00        8.84   \n",
      "522431         1.24                  2.75          0.0  0.00        8.84   \n",
      "554023         1.45                  2.75          0.0  0.00       17.55   \n",
      "554024         2.31                  2.75          0.0  0.00       14.79   \n",
      "554025         1.37                  2.75          0.0  2.00        8.38   \n",
      "...             ...                   ...          ...   ...         ...   \n",
      "13521417       0.97                  2.75          0.0  0.00        6.74   \n",
      "13521418       1.80                  2.75          0.0  0.00       12.38   \n",
      "13521419       1.13                  2.75          0.0  2.55        7.88   \n",
      "13576625       1.51                  0.00          0.0  0.00       23.37   \n",
      "13576626       1.51                  0.00          0.0  0.00       23.37   \n",
      "\n",
      "          shared_request_flag  shared_match_flag  access_a_ride_flag  \\\n",
      "522430                      N                  N                   N   \n",
      "522431                      N                  N                   N   \n",
      "554023                      N                  N                   N   \n",
      "554024                      N                  N                   N   \n",
      "554025                      N                  N                   N   \n",
      "...                       ...                ...                 ...   \n",
      "13521417                    N                  N                   N   \n",
      "13521418                    N                  N                   N   \n",
      "13521419                    N                  N                   N   \n",
      "13576625                    N                  N                   N   \n",
      "13576626                    N                  N                   N   \n",
      "\n",
      "          wav_request_flag wav_match_flag  \n",
      "522430                   N              N  \n",
      "522431                   N              N  \n",
      "554023                   N              N  \n",
      "554024                   N              N  \n",
      "554025                   N              N  \n",
      "...                    ...            ...  \n",
      "13521417                 N              N  \n",
      "13521418                 N              N  \n",
      "13521419                 N              N  \n",
      "13576625                 N              N  \n",
      "13576626                 N              N  \n",
      "\n",
      "[1020 rows x 24 columns]\n"
     ]
    }
   ],
   "source": [
    "# Find rows where all fields (all columns) are duplicated\n",
    "may_duplicated_rows = may[may.duplicated(keep=False, subset=apr.columns)]\n",
    "\n",
    "# Displaying duplicated rows\n",
    "print(may_duplicated_rows)"
   ]
  },
  {
   "cell_type": "code",
   "execution_count": 42,
   "id": "bb685526-81f3-4072-8765-b29646052bc8",
   "metadata": {},
   "outputs": [
    {
     "data": {
      "text/plain": [
       "(14718661, 24)"
      ]
     },
     "execution_count": 42,
     "metadata": {},
     "output_type": "execute_result"
    }
   ],
   "source": [
    "may = may.drop_duplicates()\n",
    "\n",
    "may.shape"
   ]
  },
  {
   "cell_type": "markdown",
   "id": "ee1348b0-3513-4342-9d2d-381a7d01e0a8",
   "metadata": {},
   "source": [
    "#### Count the number of unique values in each column"
   ]
  },
  {
   "cell_type": "code",
   "execution_count": 23,
   "id": "6a2b6bfa-4958-4e5a-9627-9c930dc9144f",
   "metadata": {},
   "outputs": [
    {
     "data": {
      "text/plain": [
       "hvfhs_license_num             3\n",
       "dispatching_base_num         32\n",
       "originating_base_num         39\n",
       "request_datetime        2489016\n",
       "on_scene_datetime       2372031\n",
       "pickup_datetime         2491317\n",
       "dropoff_datetime        2490166\n",
       "PULocationID                262\n",
       "DOLocationID                262\n",
       "trip_miles                44475\n",
       "trip_time                  8739\n",
       "base_passenger_fare       21712\n",
       "tolls                      4048\n",
       "bcf                        1380\n",
       "sales_tax                  2603\n",
       "congestion_surcharge          3\n",
       "airport_fee                   1\n",
       "tips                       3918\n",
       "driver_pay                16518\n",
       "shared_request_flag           2\n",
       "shared_match_flag             2\n",
       "access_a_ride_flag            2\n",
       "wav_request_flag              2\n",
       "wav_match_flag                2\n",
       "dtype: int64"
      ]
     },
     "execution_count": 23,
     "metadata": {},
     "output_type": "execute_result"
    }
   ],
   "source": [
    "#count number of unique values in each column\n",
    "jan.nunique()"
   ]
  },
  {
   "cell_type": "code",
   "execution_count": 24,
   "id": "f1bebc62-8420-4004-93ea-ca96e7e1fefb",
   "metadata": {},
   "outputs": [
    {
     "data": {
      "text/plain": [
       "array(['HV0003', 'HV0005', 'HV0004'], dtype=object)"
      ]
     },
     "execution_count": 24,
     "metadata": {},
     "output_type": "execute_result"
    }
   ],
   "source": [
    "jan['hvfhs_license_num'].unique()"
   ]
  },
  {
   "cell_type": "code",
   "execution_count": 25,
   "id": "0f5fbbe8-7958-4aaf-835d-66bf4bae8a36",
   "metadata": {},
   "outputs": [
    {
     "data": {
      "text/plain": [
       "hvfhs_license_num             3\n",
       "dispatching_base_num         32\n",
       "originating_base_num         38\n",
       "request_datetime        2251917\n",
       "on_scene_datetime       2151725\n",
       "pickup_datetime         2254081\n",
       "dropoff_datetime        2252843\n",
       "PULocationID                261\n",
       "DOLocationID                261\n",
       "trip_miles                43968\n",
       "trip_time                  9005\n",
       "base_passenger_fare       22538\n",
       "tolls                      4399\n",
       "bcf                        1394\n",
       "sales_tax                  2699\n",
       "congestion_surcharge          4\n",
       "airport_fee                   1\n",
       "tips                       4066\n",
       "driver_pay                16802\n",
       "shared_request_flag           2\n",
       "shared_match_flag             2\n",
       "access_a_ride_flag            2\n",
       "wav_request_flag              2\n",
       "wav_match_flag                2\n",
       "dtype: int64"
      ]
     },
     "execution_count": 25,
     "metadata": {},
     "output_type": "execute_result"
    }
   ],
   "source": [
    "feb.nunique()"
   ]
  },
  {
   "cell_type": "code",
   "execution_count": 26,
   "id": "f1b1bdb0-12e8-4b36-a5d3-5c83cff8a782",
   "metadata": {},
   "outputs": [
    {
     "data": {
      "text/plain": [
       "array(['HV0003', 'HV0005', 'HV0004'], dtype=object)"
      ]
     },
     "execution_count": 26,
     "metadata": {},
     "output_type": "execute_result"
    }
   ],
   "source": [
    "feb['hvfhs_license_num'].unique()"
   ]
  },
  {
   "cell_type": "code",
   "execution_count": 27,
   "id": "11361261-9738-41f8-a6ac-fba5b9b08761",
   "metadata": {},
   "outputs": [
    {
     "data": {
      "text/plain": [
       "hvfhs_license_num             3\n",
       "dispatching_base_num         32\n",
       "originating_base_num         38\n",
       "request_datetime        2523679\n",
       "on_scene_datetime       2425569\n",
       "pickup_datetime         2525960\n",
       "dropoff_datetime        2524887\n",
       "PULocationID                262\n",
       "DOLocationID                263\n",
       "trip_miles                47993\n",
       "trip_time                  9558\n",
       "base_passenger_fare       23900\n",
       "tolls                      4301\n",
       "bcf                        1454\n",
       "sales_tax                  2793\n",
       "congestion_surcharge          4\n",
       "airport_fee                   1\n",
       "tips                       4303\n",
       "driver_pay                18045\n",
       "shared_request_flag           2\n",
       "shared_match_flag             2\n",
       "access_a_ride_flag            2\n",
       "wav_request_flag              2\n",
       "wav_match_flag                2\n",
       "dtype: int64"
      ]
     },
     "execution_count": 27,
     "metadata": {},
     "output_type": "execute_result"
    }
   ],
   "source": [
    "mar.nunique()"
   ]
  },
  {
   "cell_type": "code",
   "execution_count": 28,
   "id": "c4dfbe68-84ff-42b6-bc49-c57ea1cfbf47",
   "metadata": {},
   "outputs": [
    {
     "data": {
      "text/plain": [
       "array(['HV0003', 'HV0005', 'HV0004'], dtype=object)"
      ]
     },
     "execution_count": 28,
     "metadata": {},
     "output_type": "execute_result"
    }
   ],
   "source": [
    "mar['hvfhs_license_num'].unique()"
   ]
  },
  {
   "cell_type": "code",
   "execution_count": 29,
   "id": "f8fdf528-14e6-4044-8372-4505bff8dcda",
   "metadata": {},
   "outputs": [
    {
     "data": {
      "text/plain": [
       "hvfhs_license_num             3\n",
       "dispatching_base_num         32\n",
       "originating_base_num         37\n",
       "request_datetime        2453647\n",
       "on_scene_datetime       2364289\n",
       "pickup_datetime         2456086\n",
       "dropoff_datetime        2455628\n",
       "PULocationID                262\n",
       "DOLocationID                261\n",
       "trip_miles                48021\n",
       "trip_time                  9859\n",
       "base_passenger_fare       25291\n",
       "tolls                      4381\n",
       "bcf                        1533\n",
       "sales_tax                  2967\n",
       "congestion_surcharge          6\n",
       "airport_fee                  10\n",
       "tips                       4589\n",
       "driver_pay                18819\n",
       "shared_request_flag           2\n",
       "shared_match_flag             2\n",
       "access_a_ride_flag            2\n",
       "wav_request_flag              2\n",
       "wav_match_flag                2\n",
       "dtype: int64"
      ]
     },
     "execution_count": 29,
     "metadata": {},
     "output_type": "execute_result"
    }
   ],
   "source": [
    "apr.nunique()"
   ]
  },
  {
   "cell_type": "code",
   "execution_count": 30,
   "id": "9016cbd6-7f12-40b1-aa61-e15f7ac596cb",
   "metadata": {},
   "outputs": [
    {
     "data": {
      "text/plain": [
       "array(['HV0003', 'HV0005', 'HV0004'], dtype=object)"
      ]
     },
     "execution_count": 30,
     "metadata": {},
     "output_type": "execute_result"
    }
   ],
   "source": [
    "apr['hvfhs_license_num'].unique()"
   ]
  },
  {
   "cell_type": "code",
   "execution_count": 31,
   "id": "ec459e7c-b4e4-4cdb-9f08-9098b26d495e",
   "metadata": {},
   "outputs": [
    {
     "data": {
      "text/plain": [
       "hvfhs_license_num             3\n",
       "dispatching_base_num         32\n",
       "originating_base_num         38\n",
       "request_datetime        2554665\n",
       "on_scene_datetime       2473666\n",
       "pickup_datetime         2558060\n",
       "dropoff_datetime        2557102\n",
       "PULocationID                261\n",
       "DOLocationID                262\n",
       "trip_miles                50183\n",
       "trip_time                 10656\n",
       "base_passenger_fare       27226\n",
       "tolls                      4140\n",
       "bcf                        1581\n",
       "sales_tax                  3263\n",
       "congestion_surcharge          5\n",
       "airport_fee                   7\n",
       "tips                       5046\n",
       "driver_pay                20477\n",
       "shared_request_flag           2\n",
       "shared_match_flag             2\n",
       "access_a_ride_flag            2\n",
       "wav_request_flag              2\n",
       "wav_match_flag                2\n",
       "dtype: int64"
      ]
     },
     "execution_count": 31,
     "metadata": {},
     "output_type": "execute_result"
    }
   ],
   "source": [
    "may.nunique()"
   ]
  },
  {
   "cell_type": "code",
   "execution_count": 32,
   "id": "4268c6d2-6bf1-4088-9462-405e83fec712",
   "metadata": {},
   "outputs": [
    {
     "data": {
      "text/plain": [
       "array(['HV0003', 'HV0005', 'HV0004'], dtype=object)"
      ]
     },
     "execution_count": 32,
     "metadata": {},
     "output_type": "execute_result"
    }
   ],
   "source": [
    "may['hvfhs_license_num'].unique()"
   ]
  },
  {
   "cell_type": "code",
   "execution_count": 33,
   "id": "16d9f73a-c24a-451e-a68f-6af407ec52b2",
   "metadata": {},
   "outputs": [
    {
     "data": {
      "text/plain": [
       "hvfhs_license_num             3\n",
       "dispatching_base_num         32\n",
       "originating_base_num         39\n",
       "request_datetime        2500477\n",
       "on_scene_datetime       2427233\n",
       "pickup_datetime         2503634\n",
       "dropoff_datetime        2503182\n",
       "PULocationID                263\n",
       "DOLocationID                263\n",
       "trip_miles                51666\n",
       "trip_time                 11539\n",
       "base_passenger_fare       29015\n",
       "tolls                      4285\n",
       "bcf                        1736\n",
       "sales_tax                  3576\n",
       "congestion_surcharge          5\n",
       "airport_fee                   8\n",
       "tips                       5569\n",
       "driver_pay                23162\n",
       "shared_request_flag           2\n",
       "shared_match_flag             2\n",
       "access_a_ride_flag            2\n",
       "wav_request_flag              2\n",
       "wav_match_flag                2\n",
       "dtype: int64"
      ]
     },
     "execution_count": 33,
     "metadata": {},
     "output_type": "execute_result"
    }
   ],
   "source": [
    "jun.nunique()"
   ]
  },
  {
   "cell_type": "code",
   "execution_count": 34,
   "id": "2a3563e0-d150-43f1-9391-72c61c113190",
   "metadata": {},
   "outputs": [
    {
     "data": {
      "text/plain": [
       "array(['HV0003', 'HV0005', 'HV0004'], dtype=object)"
      ]
     },
     "execution_count": 34,
     "metadata": {},
     "output_type": "execute_result"
    }
   ],
   "source": [
    "jun['hvfhs_license_num'].unique()"
   ]
  },
  {
   "cell_type": "code",
   "execution_count": 35,
   "id": "95333c2c-54f1-461d-851d-6332ef8b00e5",
   "metadata": {},
   "outputs": [
    {
     "data": {
      "text/plain": [
       "hvfhs_license_num             3\n",
       "dispatching_base_num         32\n",
       "originating_base_num         38\n",
       "request_datetime        2584954\n",
       "on_scene_datetime       2505945\n",
       "pickup_datetime         2590139\n",
       "dropoff_datetime        2590242\n",
       "PULocationID                260\n",
       "DOLocationID                262\n",
       "trip_miles                51199\n",
       "trip_time                 11234\n",
       "base_passenger_fare       29234\n",
       "tolls                      4149\n",
       "bcf                        1722\n",
       "sales_tax                  3623\n",
       "congestion_surcharge          5\n",
       "airport_fee                  10\n",
       "tips                       5703\n",
       "driver_pay                21784\n",
       "shared_request_flag           2\n",
       "shared_match_flag             2\n",
       "access_a_ride_flag            2\n",
       "wav_request_flag              2\n",
       "wav_match_flag                2\n",
       "dtype: int64"
      ]
     },
     "execution_count": 35,
     "metadata": {},
     "output_type": "execute_result"
    }
   ],
   "source": [
    "jul.nunique()"
   ]
  },
  {
   "cell_type": "code",
   "execution_count": 36,
   "id": "75ac779c-85d4-466e-89ac-50d936eab7c1",
   "metadata": {},
   "outputs": [
    {
     "data": {
      "text/plain": [
       "array(['HV0003', 'HV0005', 'HV0004'], dtype=object)"
      ]
     },
     "execution_count": 36,
     "metadata": {},
     "output_type": "execute_result"
    }
   ],
   "source": [
    "jul['hvfhs_license_num'].unique()"
   ]
  },
  {
   "cell_type": "code",
   "execution_count": 37,
   "id": "bb28106c-1fbb-4233-aff9-74072620432a",
   "metadata": {},
   "outputs": [
    {
     "data": {
      "text/plain": [
       "hvfhs_license_num             3\n",
       "dispatching_base_num         32\n",
       "originating_base_num         36\n",
       "request_datetime        2575322\n",
       "on_scene_datetime       2480961\n",
       "pickup_datetime         2579303\n",
       "dropoff_datetime        2579626\n",
       "PULocationID                261\n",
       "DOLocationID                263\n",
       "trip_miles                50980\n",
       "trip_time                 10935\n",
       "base_passenger_fare       29106\n",
       "tolls                      3931\n",
       "bcf                        1741\n",
       "sales_tax                  3540\n",
       "congestion_surcharge          4\n",
       "airport_fee                  12\n",
       "tips                       5827\n",
       "driver_pay                21616\n",
       "shared_request_flag           2\n",
       "shared_match_flag             2\n",
       "access_a_ride_flag            2\n",
       "wav_request_flag              2\n",
       "wav_match_flag                2\n",
       "dtype: int64"
      ]
     },
     "execution_count": 37,
     "metadata": {},
     "output_type": "execute_result"
    }
   ],
   "source": [
    "aug.nunique()"
   ]
  },
  {
   "cell_type": "code",
   "execution_count": 38,
   "id": "27e01194-bf6e-4d6a-a94b-6aa6dad62da8",
   "metadata": {},
   "outputs": [
    {
     "data": {
      "text/plain": [
       "array(['HV0003', 'HV0005', 'HV0004'], dtype=object)"
      ]
     },
     "execution_count": 38,
     "metadata": {},
     "output_type": "execute_result"
    }
   ],
   "source": [
    "aug['hvfhs_license_num'].unique()"
   ]
  },
  {
   "cell_type": "code",
   "execution_count": 39,
   "id": "84698dee-635e-49a3-83ec-f3baaf538134",
   "metadata": {},
   "outputs": [
    {
     "data": {
      "text/plain": [
       "hvfhs_license_num             3\n",
       "dispatching_base_num         33\n",
       "originating_base_num         36\n",
       "request_datetime        2495749\n",
       "on_scene_datetime       2414577\n",
       "pickup_datetime         2500725\n",
       "dropoff_datetime        2499915\n",
       "PULocationID                263\n",
       "DOLocationID                261\n",
       "trip_miles                49789\n",
       "trip_time                 11390\n",
       "base_passenger_fare       29516\n",
       "tolls                      4246\n",
       "bcf                        1722\n",
       "sales_tax                  3509\n",
       "congestion_surcharge          6\n",
       "airport_fee                  12\n",
       "tips                       6065\n",
       "driver_pay                21243\n",
       "shared_request_flag           2\n",
       "shared_match_flag             2\n",
       "access_a_ride_flag            2\n",
       "wav_request_flag              2\n",
       "wav_match_flag                2\n",
       "dtype: int64"
      ]
     },
     "execution_count": 39,
     "metadata": {},
     "output_type": "execute_result"
    }
   ],
   "source": [
    "sep.nunique()"
   ]
  },
  {
   "cell_type": "code",
   "execution_count": 40,
   "id": "c624fa57-6d32-4ac1-8e1b-4231d76df6d2",
   "metadata": {},
   "outputs": [
    {
     "data": {
      "text/plain": [
       "array(['HV0003', 'HV0005', 'HV0004'], dtype=object)"
      ]
     },
     "execution_count": 40,
     "metadata": {},
     "output_type": "execute_result"
    }
   ],
   "source": [
    "sep['hvfhs_license_num'].unique()"
   ]
  },
  {
   "cell_type": "code",
   "execution_count": 41,
   "id": "877f4593-ce31-40b2-80bd-c591eb40e5af",
   "metadata": {},
   "outputs": [
    {
     "data": {
      "text/plain": [
       "hvfhs_license_num             3\n",
       "dispatching_base_num         32\n",
       "originating_base_num         38\n",
       "request_datetime        2584820\n",
       "on_scene_datetime       2512631\n",
       "pickup_datetime         2589021\n",
       "dropoff_datetime        2588437\n",
       "PULocationID                262\n",
       "DOLocationID                263\n",
       "trip_miles                50191\n",
       "trip_time                 10996\n",
       "base_passenger_fare       28045\n",
       "tolls                      4264\n",
       "bcf                        1683\n",
       "sales_tax                  3260\n",
       "congestion_surcharge          6\n",
       "airport_fee                   9\n",
       "tips                       5816\n",
       "driver_pay                20349\n",
       "shared_request_flag           2\n",
       "shared_match_flag             2\n",
       "access_a_ride_flag            2\n",
       "wav_request_flag              2\n",
       "wav_match_flag                2\n",
       "dtype: int64"
      ]
     },
     "execution_count": 41,
     "metadata": {},
     "output_type": "execute_result"
    }
   ],
   "source": [
    "oct.nunique()"
   ]
  },
  {
   "cell_type": "code",
   "execution_count": 42,
   "id": "7bd53271-1c4e-4b06-b060-f33d3226a770",
   "metadata": {},
   "outputs": [
    {
     "data": {
      "text/plain": [
       "array(['HV0003', 'HV0005', 'HV0004'], dtype=object)"
      ]
     },
     "execution_count": 42,
     "metadata": {},
     "output_type": "execute_result"
    }
   ],
   "source": [
    "oct['hvfhs_license_num'].unique()"
   ]
  },
  {
   "cell_type": "code",
   "execution_count": 43,
   "id": "477bcfef-3a12-40bd-8a5a-cb4f5d7b39fd",
   "metadata": {},
   "outputs": [
    {
     "data": {
      "text/plain": [
       "hvfhs_license_num             2\n",
       "dispatching_base_num         29\n",
       "originating_base_num         35\n",
       "request_datetime        2505752\n",
       "on_scene_datetime       2437444\n",
       "pickup_datetime         2509692\n",
       "dropoff_datetime        2509528\n",
       "PULocationID                261\n",
       "DOLocationID                261\n",
       "trip_miles                50187\n",
       "trip_time                 11088\n",
       "base_passenger_fare       28289\n",
       "tolls                      4217\n",
       "bcf                        1661\n",
       "sales_tax                  3220\n",
       "congestion_surcharge          5\n",
       "airport_fee                  10\n",
       "tips                       5575\n",
       "driver_pay                20482\n",
       "shared_request_flag           1\n",
       "shared_match_flag             2\n",
       "access_a_ride_flag            2\n",
       "wav_request_flag              2\n",
       "wav_match_flag                2\n",
       "dtype: int64"
      ]
     },
     "execution_count": 43,
     "metadata": {},
     "output_type": "execute_result"
    }
   ],
   "source": [
    "nov.nunique()"
   ]
  },
  {
   "cell_type": "code",
   "execution_count": 44,
   "id": "1551f3f7-b0f8-410c-acd8-dfaec019204b",
   "metadata": {},
   "outputs": [
    {
     "data": {
      "text/plain": [
       "array(['HV0003', 'HV0005'], dtype=object)"
      ]
     },
     "execution_count": 44,
     "metadata": {},
     "output_type": "execute_result"
    }
   ],
   "source": [
    "nov['hvfhs_license_num'].unique()"
   ]
  },
  {
   "cell_type": "code",
   "execution_count": 45,
   "id": "cb0a7122-f3b5-4ec0-b88a-e458ea983246",
   "metadata": {},
   "outputs": [
    {
     "data": {
      "text/plain": [
       "hvfhs_license_num             2\n",
       "dispatching_base_num         27\n",
       "originating_base_num         33\n",
       "request_datetime        2577609\n",
       "on_scene_datetime       2498404\n",
       "pickup_datetime         2582368\n",
       "dropoff_datetime        2581622\n",
       "PULocationID                262\n",
       "DOLocationID                263\n",
       "trip_miles                49692\n",
       "trip_time                 10116\n",
       "base_passenger_fare       28279\n",
       "tolls                      4445\n",
       "bcf                        1587\n",
       "sales_tax                  3130\n",
       "congestion_surcharge          4\n",
       "airport_fee                   7\n",
       "tips                       5748\n",
       "driver_pay                20037\n",
       "shared_request_flag           1\n",
       "shared_match_flag             2\n",
       "access_a_ride_flag            2\n",
       "wav_request_flag              2\n",
       "wav_match_flag                2\n",
       "dtype: int64"
      ]
     },
     "execution_count": 45,
     "metadata": {},
     "output_type": "execute_result"
    }
   ],
   "source": [
    "dec.nunique()"
   ]
  },
  {
   "cell_type": "code",
   "execution_count": 46,
   "id": "6f05ecbd-feda-440c-b5d9-7f8b90e4e360",
   "metadata": {},
   "outputs": [
    {
     "data": {
      "text/plain": [
       "array(['HV0003', 'HV0005'], dtype=object)"
      ]
     },
     "execution_count": 46,
     "metadata": {},
     "output_type": "execute_result"
    }
   ],
   "source": [
    "dec['hvfhs_license_num'].unique()"
   ]
  },
  {
   "cell_type": "markdown",
   "id": "6536f5e3-7d14-40dd-b72d-79a88b0334ab",
   "metadata": {},
   "source": [
    "### Data Cleaning\n",
    "\n",
    "In this section, I will clean the data by addressing the following issues found during wrangling:\n",
    "- Drop rows that do not contain Lyft or Uber ride data\n",
    "- Rename hvfhs_license_num column header and values\n",
    "- Combine DataFrames\n",
    "- Drop columns that are not needed to answer the analysis questions\n",
    "- Insert Date column\n",
    "- Insert Total Pay column to combine driver pay & tips\n",
    "- Insert Pay Rate column\n",
    "- Export cleaned data to .csv file"
   ]
  },
  {
   "cell_type": "markdown",
   "id": "5eea0129-a82a-4f61-96d5-5ace1501e318",
   "metadata": {},
   "source": [
    "#### Remove rows that do not contain Uber or Lyft ride data"
   ]
  },
  {
   "cell_type": "code",
   "execution_count": 47,
   "id": "05f2d261-e7af-49f3-b07d-7e34806dd9bd",
   "metadata": {},
   "outputs": [],
   "source": [
    "# List of DataFrames\n",
    "months = [jan, feb, mar, apr, may, jun, jul, aug, sep, oct, nov, dec]\n",
    "\n",
    "# Loop through the list and filter out rows with 'HV0004' in 'hvfhs_license_num' column\n",
    "for i in range(len(months)):\n",
    "    months[i] = months[i][months[i]['hvfhs_license_num'] != 'HV0004'].copy()"
   ]
  },
  {
   "cell_type": "code",
   "execution_count": 48,
   "id": "bf3d26ec-b368-41e7-8678-efaccc8deb65",
   "metadata": {},
   "outputs": [
    {
     "name": "stdout",
     "output_type": "stream",
     "text": [
      "['HV0003' 'HV0005']\n",
      "['HV0003' 'HV0005']\n",
      "['HV0003' 'HV0005']\n",
      "['HV0003' 'HV0005']\n",
      "['HV0003' 'HV0005']\n",
      "['HV0003' 'HV0005']\n",
      "['HV0003' 'HV0005']\n",
      "['HV0003' 'HV0005']\n",
      "['HV0003' 'HV0005']\n",
      "['HV0003' 'HV0005']\n",
      "['HV0003' 'HV0005']\n",
      "['HV0003' 'HV0005']\n"
     ]
    }
   ],
   "source": [
    "# Loop through the list and check unique values in 'hvfhs_license_num' column for each DataFrame\n",
    "for df in months:\n",
    "    unique_values = df['hvfhs_license_num'].unique()\n",
    "    print(unique_values)"
   ]
  },
  {
   "cell_type": "markdown",
   "id": "f709a08a-e761-48be-9365-34c4678516be",
   "metadata": {},
   "source": [
    "#### Rename hvfhs_license_num column header & values"
   ]
  },
  {
   "cell_type": "code",
   "execution_count": 49,
   "id": "d9974d17-b215-4e50-ae22-161056c8fe90",
   "metadata": {},
   "outputs": [],
   "source": [
    "# Loop through the list and perform replacements and column renaming\n",
    "for i, df in enumerate(months):\n",
    "    months[i] = df.copy()  # Make a copy of the DataFrame to avoid SettingWithCopyWarning\n",
    "    months[i]['hvfhs_license_num'].replace({'HV0003': 'Uber', 'HV0005': 'Lyft'}, inplace=True)\n",
    "    months[i].rename(columns={'hvfhs_license_num': 'rideshare'}, inplace=True)"
   ]
  },
  {
   "cell_type": "code",
   "execution_count": 50,
   "id": "954079cf-765e-46c0-9469-678fdb4c4f3a",
   "metadata": {},
   "outputs": [
    {
     "name": "stdout",
     "output_type": "stream",
     "text": [
      "DataFrame 1 - Rideshare column head:\n",
      "0    Uber\n",
      "1    Uber\n",
      "2    Uber\n",
      "3    Uber\n",
      "4    Uber\n",
      "Name: rideshare, dtype: object\n",
      "---------------------\n",
      "DataFrame 2 - Rideshare column head:\n",
      "0    Uber\n",
      "1    Uber\n",
      "2    Lyft\n",
      "3    Lyft\n",
      "4    Uber\n",
      "Name: rideshare, dtype: object\n",
      "---------------------\n",
      "DataFrame 3 - Rideshare column head:\n",
      "0    Uber\n",
      "1    Uber\n",
      "2    Uber\n",
      "3    Uber\n",
      "4    Uber\n",
      "Name: rideshare, dtype: object\n",
      "---------------------\n",
      "DataFrame 4 - Rideshare column head:\n",
      "0    Uber\n",
      "1    Uber\n",
      "2    Uber\n",
      "3    Uber\n",
      "4    Uber\n",
      "Name: rideshare, dtype: object\n",
      "---------------------\n",
      "DataFrame 5 - Rideshare column head:\n",
      "0    Uber\n",
      "1    Uber\n",
      "2    Uber\n",
      "3    Uber\n",
      "4    Uber\n",
      "Name: rideshare, dtype: object\n",
      "---------------------\n",
      "DataFrame 6 - Rideshare column head:\n",
      "0    Uber\n",
      "1    Uber\n",
      "2    Uber\n",
      "3    Uber\n",
      "4    Lyft\n",
      "Name: rideshare, dtype: object\n",
      "---------------------\n",
      "DataFrame 7 - Rideshare column head:\n",
      "0    Uber\n",
      "1    Uber\n",
      "2    Uber\n",
      "3    Uber\n",
      "4    Uber\n",
      "Name: rideshare, dtype: object\n",
      "---------------------\n",
      "DataFrame 8 - Rideshare column head:\n",
      "0    Uber\n",
      "1    Uber\n",
      "2    Uber\n",
      "3    Uber\n",
      "4    Uber\n",
      "Name: rideshare, dtype: object\n",
      "---------------------\n",
      "DataFrame 9 - Rideshare column head:\n",
      "0    Uber\n",
      "1    Uber\n",
      "2    Uber\n",
      "3    Uber\n",
      "4    Uber\n",
      "Name: rideshare, dtype: object\n",
      "---------------------\n",
      "DataFrame 10 - Rideshare column head:\n",
      "0    Uber\n",
      "1    Lyft\n",
      "2    Uber\n",
      "3    Uber\n",
      "4    Uber\n",
      "Name: rideshare, dtype: object\n",
      "---------------------\n",
      "DataFrame 11 - Rideshare column head:\n",
      "0    Uber\n",
      "1    Uber\n",
      "2    Uber\n",
      "3    Uber\n",
      "4    Uber\n",
      "Name: rideshare, dtype: object\n",
      "---------------------\n",
      "DataFrame 12 - Rideshare column head:\n",
      "0    Uber\n",
      "1    Uber\n",
      "2    Uber\n",
      "3    Uber\n",
      "4    Uber\n",
      "Name: rideshare, dtype: object\n",
      "---------------------\n"
     ]
    }
   ],
   "source": [
    "for i, df in enumerate(months, start=1):\n",
    "    print(f\"DataFrame {i} - Rideshare column head:\")\n",
    "    print(df['rideshare'].head())\n",
    "    print(\"---------------------\")"
   ]
  },
  {
   "cell_type": "markdown",
   "id": "2d18927f-0750-43ed-971e-a58cc9ac491d",
   "metadata": {},
   "source": [
    "#### Drop columns that are not needed to answer the analysis questions"
   ]
  },
  {
   "cell_type": "code",
   "execution_count": 51,
   "id": "ac3e9185-a735-42e1-af5c-03c6f854d923",
   "metadata": {},
   "outputs": [],
   "source": [
    "# List of columns to filter out\n",
    "columns_to_remove = ['dispatching_base_num', 'originating_base_num', 'request_datetime', 'on_scene_datetime', 'PULocationID', 'DOLocationID', 'base_passenger_fare', 'tolls', 'bcf', 'sales_tax', 'congestion_surcharge', 'airport_fee', 'shared_request_flag', 'shared_match_flag', 'access_a_ride_flag', 'wav_request_flag', 'wav_match_flag']\n",
    "\n",
    "# Remove specified columns from each DataFrame using list comprehension\n",
    "months = [df.drop(columns=columns_to_remove).copy() for df in months]"
   ]
  },
  {
   "cell_type": "code",
   "execution_count": 54,
   "id": "a7043de8-9529-4d54-94d7-1d0906e72d1b",
   "metadata": {},
   "outputs": [
    {
     "name": "stdout",
     "output_type": "stream",
     "text": [
      "  rideshare     pickup_datetime    dropoff_datetime  trip_miles  trip_time  \\\n",
      "0      Uber 2021-01-01 00:33:44 2021-01-01 00:49:07        5.26        923   \n",
      "1      Uber 2021-01-01 00:55:19 2021-01-01 01:18:21        3.65       1382   \n",
      "\n",
      "   tips  driver_pay  \n",
      "0   0.0       14.99  \n",
      "1   0.0       17.06  \n",
      "  rideshare     pickup_datetime    dropoff_datetime  trip_miles  trip_time  \\\n",
      "0      Uber 2021-02-01 00:10:40 2021-02-01 00:21:09        2.06        629   \n",
      "1      Uber 2021-02-01 00:27:23 2021-02-01 00:44:01        3.15        998   \n",
      "\n",
      "   tips  driver_pay  \n",
      "0   0.0        9.79  \n",
      "1   0.0       24.01  \n",
      "  rideshare     pickup_datetime    dropoff_datetime  trip_miles  trip_time  \\\n",
      "0      Uber 2021-03-01 00:07:07 2021-03-01 00:13:56        1.35        409   \n",
      "1      Uber 2021-03-01 00:17:00 2021-03-01 00:38:08        7.03       1268   \n",
      "\n",
      "   tips  driver_pay  \n",
      "0   0.0        5.39  \n",
      "1   0.0       18.38  \n",
      "  rideshare     pickup_datetime    dropoff_datetime  trip_miles  trip_time  \\\n",
      "0      Uber 2021-04-01 00:10:56 2021-04-01 00:26:15        3.22        919   \n",
      "1      Uber 2021-04-01 00:32:36 2021-04-01 00:42:04        5.77        568   \n",
      "\n",
      "   tips  driver_pay  \n",
      "0   0.0       11.98  \n",
      "1   0.0       11.86  \n",
      "  rideshare     pickup_datetime    dropoff_datetime  trip_miles  trip_time  \\\n",
      "0      Uber 2021-05-01 00:07:26 2021-05-01 00:14:44        1.22        438   \n",
      "1      Uber 2021-05-01 00:17:47 2021-05-01 00:31:24        4.59        817   \n",
      "\n",
      "   tips  driver_pay  \n",
      "0   0.0       10.66  \n",
      "1   0.0       36.43  \n",
      "  rideshare     pickup_datetime    dropoff_datetime  trip_miles  trip_time  \\\n",
      "0      Uber 2021-06-01 00:02:41 2021-06-01 00:07:46        1.00        305   \n",
      "1      Uber 2021-06-01 00:16:16 2021-06-01 00:21:14        1.39        298   \n",
      "\n",
      "   tips  driver_pay  \n",
      "0   0.0        7.03  \n",
      "1   0.0        9.03  \n",
      "  rideshare     pickup_datetime    dropoff_datetime  trip_miles  trip_time  \\\n",
      "0      Uber 2021-07-01 00:10:28 2021-07-01 00:17:53        1.29        445   \n",
      "1      Uber 2021-07-01 00:30:11 2021-07-01 00:36:37        1.39        386   \n",
      "\n",
      "   tips  driver_pay  \n",
      "0   0.0        7.17  \n",
      "1   5.0        7.16  \n",
      "  rideshare     pickup_datetime    dropoff_datetime  trip_miles  trip_time  \\\n",
      "0      Uber 2021-08-01 00:26:41 2021-08-01 00:48:17        6.51       1296   \n",
      "1      Uber 2021-08-01 00:54:24 2021-08-01 01:12:02       10.68       1058   \n",
      "\n",
      "   tips  driver_pay  \n",
      "0   0.0       26.28  \n",
      "1   0.0       26.88  \n",
      "  rideshare     pickup_datetime    dropoff_datetime  trip_miles  trip_time  \\\n",
      "0      Uber 2021-09-01 00:31:14 2021-09-01 01:08:25       14.93       2231   \n",
      "1      Uber 2021-09-01 00:07:45 2021-09-01 00:13:47        1.19        362   \n",
      "\n",
      "   tips  driver_pay  \n",
      "0   0.0       51.52  \n",
      "1   0.0        6.01  \n",
      "  rideshare     pickup_datetime    dropoff_datetime  trip_miles  trip_time  \\\n",
      "0      Uber 2021-10-01 00:33:31 2021-10-01 01:07:51      12.790       2060   \n",
      "1      Lyft 2021-10-01 00:59:17 2021-10-01 01:22:14       6.472       1396   \n",
      "\n",
      "   tips  driver_pay  \n",
      "0  7.47       33.23  \n",
      "1  0.00       33.16  \n",
      "  rideshare     pickup_datetime    dropoff_datetime  trip_miles  trip_time  \\\n",
      "0      Uber 2021-11-01 00:00:52 2021-11-01 00:07:05        1.11        373   \n",
      "1      Uber 2021-11-01 00:12:43 2021-11-01 00:33:16        5.52       1233   \n",
      "\n",
      "   tips  driver_pay  \n",
      "0   0.0        8.41  \n",
      "1   0.0       19.43  \n",
      "  rideshare     pickup_datetime    dropoff_datetime  trip_miles  trip_time  \\\n",
      "0      Uber 2021-12-01 00:09:16 2021-12-01 00:58:03       17.54       2928   \n",
      "1      Uber 2021-12-01 00:06:05 2021-12-01 00:19:05        2.39        780   \n",
      "\n",
      "   tips  driver_pay  \n",
      "0   0.0       53.67  \n",
      "1   0.0        9.41  \n"
     ]
    }
   ],
   "source": [
    "for df in months:\n",
    "    print(df.head(2))"
   ]
  },
  {
   "cell_type": "markdown",
   "id": "b9544601-08a4-4093-a73b-71e7c57bbd48",
   "metadata": {},
   "source": [
    "#### Insert Date Row"
   ]
  },
  {
   "cell_type": "code",
   "execution_count": 55,
   "id": "52b69f45-c461-4fb3-a813-e778d359846f",
   "metadata": {},
   "outputs": [],
   "source": [
    "# Loop through the dictionary and extract the date from 'pickup_datetime'\n",
    "for i in range(len(months)):\n",
    "    months[i] = months[i].copy()\n",
    "    months[i]['date'] = months[i]['pickup_datetime'].dt.date"
   ]
  },
  {
   "cell_type": "code",
   "execution_count": 58,
   "id": "5744dfbe-3cc7-4e06-bf76-19d530fd743f",
   "metadata": {},
   "outputs": [
    {
     "name": "stdout",
     "output_type": "stream",
     "text": [
      "DataFrame 1 - Extracted 'date' column head:\n",
      "0    2021-01-01\n",
      "1    2021-01-01\n",
      "Name: date, dtype: object\n",
      "---------------------\n",
      "DataFrame 2 - Extracted 'date' column head:\n",
      "0    2021-02-01\n",
      "1    2021-02-01\n",
      "Name: date, dtype: object\n",
      "---------------------\n",
      "DataFrame 3 - Extracted 'date' column head:\n",
      "0    2021-03-01\n",
      "1    2021-03-01\n",
      "Name: date, dtype: object\n",
      "---------------------\n",
      "DataFrame 4 - Extracted 'date' column head:\n",
      "0    2021-04-01\n",
      "1    2021-04-01\n",
      "Name: date, dtype: object\n",
      "---------------------\n",
      "DataFrame 5 - Extracted 'date' column head:\n",
      "0    2021-05-01\n",
      "1    2021-05-01\n",
      "Name: date, dtype: object\n",
      "---------------------\n",
      "DataFrame 6 - Extracted 'date' column head:\n",
      "0    2021-06-01\n",
      "1    2021-06-01\n",
      "Name: date, dtype: object\n",
      "---------------------\n",
      "DataFrame 7 - Extracted 'date' column head:\n",
      "0    2021-07-01\n",
      "1    2021-07-01\n",
      "Name: date, dtype: object\n",
      "---------------------\n",
      "DataFrame 8 - Extracted 'date' column head:\n",
      "0    2021-08-01\n",
      "1    2021-08-01\n",
      "Name: date, dtype: object\n",
      "---------------------\n",
      "DataFrame 9 - Extracted 'date' column head:\n",
      "0    2021-09-01\n",
      "1    2021-09-01\n",
      "Name: date, dtype: object\n",
      "---------------------\n",
      "DataFrame 10 - Extracted 'date' column head:\n",
      "0    2021-10-01\n",
      "1    2021-10-01\n",
      "Name: date, dtype: object\n",
      "---------------------\n",
      "DataFrame 11 - Extracted 'date' column head:\n",
      "0    2021-11-01\n",
      "1    2021-11-01\n",
      "Name: date, dtype: object\n",
      "---------------------\n",
      "DataFrame 12 - Extracted 'date' column head:\n",
      "0    2021-12-01\n",
      "1    2021-12-01\n",
      "Name: date, dtype: object\n",
      "---------------------\n"
     ]
    }
   ],
   "source": [
    "# Loop through the list and extract the date from 'pickup_datetime' column\n",
    "for i, df in enumerate(months, start=1):\n",
    "    df['date'] = df['pickup_datetime'].dt.date\n",
    "    print(f\"DataFrame {i} - Extracted 'date' column head:\")\n",
    "    print(df['date'].head(2))\n",
    "    print(\"---------------------\")"
   ]
  },
  {
   "cell_type": "markdown",
   "id": "0fd33ef9-0ea9-43b4-95b6-1211fa41249a",
   "metadata": {},
   "source": [
    "#### Add Total Pay and Pay Rate Columns"
   ]
  },
  {
   "cell_type": "code",
   "execution_count": 59,
   "id": "3358dcfa-db42-45e8-b285-41bc681d5819",
   "metadata": {},
   "outputs": [],
   "source": [
    "# Loop through the list and add a new 'Total Pay' column\n",
    "for i in range(len(months)):\n",
    "    months[i] = months[i].copy()\n",
    "    months[i]['total_pay'] = months[i]['tips'] + months[i]['driver_pay']"
   ]
  },
  {
   "cell_type": "code",
   "execution_count": 60,
   "id": "3a139182-12e6-4244-94d5-47f71404103b",
   "metadata": {},
   "outputs": [
    {
     "name": "stdout",
     "output_type": "stream",
     "text": [
      "DataFrame 1 - 'Total Pay' column head:\n",
      "0    14.99\n",
      "1    17.06\n",
      "Name: total_pay, dtype: float64\n",
      "---------------------\n",
      "DataFrame 2 - 'Total Pay' column head:\n",
      "0     9.79\n",
      "1    24.01\n",
      "Name: total_pay, dtype: float64\n",
      "---------------------\n",
      "DataFrame 3 - 'Total Pay' column head:\n",
      "0     5.39\n",
      "1    18.38\n",
      "Name: total_pay, dtype: float64\n",
      "---------------------\n",
      "DataFrame 4 - 'Total Pay' column head:\n",
      "0    11.98\n",
      "1    11.86\n",
      "Name: total_pay, dtype: float64\n",
      "---------------------\n",
      "DataFrame 5 - 'Total Pay' column head:\n",
      "0    10.66\n",
      "1    36.43\n",
      "Name: total_pay, dtype: float64\n",
      "---------------------\n",
      "DataFrame 6 - 'Total Pay' column head:\n",
      "0    7.03\n",
      "1    9.03\n",
      "Name: total_pay, dtype: float64\n",
      "---------------------\n",
      "DataFrame 7 - 'Total Pay' column head:\n",
      "0     7.17\n",
      "1    12.16\n",
      "Name: total_pay, dtype: float64\n",
      "---------------------\n",
      "DataFrame 8 - 'Total Pay' column head:\n",
      "0    26.28\n",
      "1    26.88\n",
      "Name: total_pay, dtype: float64\n",
      "---------------------\n",
      "DataFrame 9 - 'Total Pay' column head:\n",
      "0    51.52\n",
      "1     6.01\n",
      "Name: total_pay, dtype: float64\n",
      "---------------------\n",
      "DataFrame 10 - 'Total Pay' column head:\n",
      "0    40.70\n",
      "1    33.16\n",
      "Name: total_pay, dtype: float64\n",
      "---------------------\n",
      "DataFrame 11 - 'Total Pay' column head:\n",
      "0     8.41\n",
      "1    19.43\n",
      "Name: total_pay, dtype: float64\n",
      "---------------------\n",
      "DataFrame 12 - 'Total Pay' column head:\n",
      "0    53.67\n",
      "1     9.41\n",
      "Name: total_pay, dtype: float64\n",
      "---------------------\n"
     ]
    }
   ],
   "source": [
    "# Loop through the list and display the head of the 'Total Pay' column for each DataFrame\n",
    "for i, df in enumerate(months, start=1):\n",
    "    df['total_pay'] = df['tips'] + df['driver_pay']\n",
    "    print(f\"DataFrame {i} - 'Total Pay' column head:\")\n",
    "    print(df['total_pay'].head(2))\n",
    "    print(\"---------------------\")"
   ]
  },
  {
   "cell_type": "code",
   "execution_count": 61,
   "id": "48024aa5-6917-4225-b068-09516ba180fc",
   "metadata": {},
   "outputs": [],
   "source": [
    "# Loop through the list and calculate Pay Rate per hour\n",
    "for df in months:\n",
    "    df = df.copy()\n",
    "    df['pay_rate'] = df['total_pay'] / (df['trip_time'] / 3600)"
   ]
  },
  {
   "cell_type": "code",
   "execution_count": 62,
   "id": "340da919-87d1-4362-bc33-950662197ee1",
   "metadata": {},
   "outputs": [
    {
     "name": "stdout",
     "output_type": "stream",
     "text": [
      "DataFrame 1 - 'Pay Rate' column head:\n",
      "0    58.465872\n",
      "1    44.439942\n",
      "Name: pay_rate, dtype: float64\n",
      "---------------------\n",
      "DataFrame 2 - 'Pay Rate' column head:\n",
      "0    56.031797\n",
      "1    86.609218\n",
      "Name: pay_rate, dtype: float64\n",
      "---------------------\n",
      "DataFrame 3 - 'Pay Rate' column head:\n",
      "0    47.442543\n",
      "1    52.182965\n",
      "Name: pay_rate, dtype: float64\n",
      "---------------------\n",
      "DataFrame 4 - 'Pay Rate' column head:\n",
      "0    46.929271\n",
      "1    75.169014\n",
      "Name: pay_rate, dtype: float64\n",
      "---------------------\n",
      "DataFrame 5 - 'Pay Rate' column head:\n",
      "0     87.616438\n",
      "1    160.523868\n",
      "Name: pay_rate, dtype: float64\n",
      "---------------------\n",
      "DataFrame 6 - 'Pay Rate' column head:\n",
      "0     82.977049\n",
      "1    109.087248\n",
      "Name: pay_rate, dtype: float64\n",
      "---------------------\n",
      "DataFrame 7 - 'Pay Rate' column head:\n",
      "0     58.004494\n",
      "1    113.409326\n",
      "Name: pay_rate, dtype: float64\n",
      "---------------------\n",
      "DataFrame 8 - 'Pay Rate' column head:\n",
      "0    73.000000\n",
      "1    91.463138\n",
      "Name: pay_rate, dtype: float64\n",
      "---------------------\n",
      "DataFrame 9 - 'Pay Rate' column head:\n",
      "0    83.134021\n",
      "1    59.767956\n",
      "Name: pay_rate, dtype: float64\n",
      "---------------------\n",
      "DataFrame 10 - 'Pay Rate' column head:\n",
      "0    71.126214\n",
      "1    85.512894\n",
      "Name: pay_rate, dtype: float64\n",
      "---------------------\n",
      "DataFrame 11 - 'Pay Rate' column head:\n",
      "0    81.168901\n",
      "1    56.729927\n",
      "Name: pay_rate, dtype: float64\n",
      "---------------------\n",
      "DataFrame 12 - 'Pay Rate' column head:\n",
      "0    65.987705\n",
      "1    43.430769\n",
      "Name: pay_rate, dtype: float64\n",
      "---------------------\n"
     ]
    }
   ],
   "source": [
    "# Loop through the list and display the head of the 'Pay Rate' column for each DataFrame\n",
    "for i, df in enumerate(months, start=1):\n",
    "    df['pay_rate'] = df['total_pay'] / (df['trip_time'] / 3600)\n",
    "    print(f\"DataFrame {i} - 'Pay Rate' column head:\")\n",
    "    print(df['pay_rate'].head(2))\n",
    "    print(\"---------------------\")"
   ]
  },
  {
   "cell_type": "markdown",
   "id": "67aeaa06-209e-4feb-8549-12d79bdbe3cb",
   "metadata": {},
   "source": [
    "#### Remove Outliers"
   ]
  },
  {
   "cell_type": "code",
   "execution_count": 63,
   "id": "d55ba7c0-e42d-436c-b641-de52cbe3e94c",
   "metadata": {},
   "outputs": [],
   "source": [
    "# Loop through the list and drop rows with invalid and outlier data\n",
    "for i in range(len(months)):\n",
    "    months[i] = months[i].loc[(months[i]['trip_miles'] > 0) & (months[i]['trip_time'] > 0) & (months[i]['driver_pay'] > 0) & (months[i]['total_pay'] > 1) & (months[i]['total_pay'] < 500)]"
   ]
  },
  {
   "cell_type": "markdown",
   "id": "ad9154ca-879b-424c-969a-d6e2b685e380",
   "metadata": {},
   "source": [
    "#### Combine DataFrames"
   ]
  },
  {
   "cell_type": "code",
   "execution_count": 69,
   "id": "9716ad1c-a5a3-4924-af91-42dc94147569",
   "metadata": {},
   "outputs": [],
   "source": [
    "combined_df = pd.concat(months, ignore_index=True)"
   ]
  },
  {
   "cell_type": "code",
   "execution_count": 70,
   "id": "44eef323-fb79-400c-b207-b9003f64c303",
   "metadata": {},
   "outputs": [
    {
     "data": {
      "text/html": [
       "<div>\n",
       "<style scoped>\n",
       "    .dataframe tbody tr th:only-of-type {\n",
       "        vertical-align: middle;\n",
       "    }\n",
       "\n",
       "    .dataframe tbody tr th {\n",
       "        vertical-align: top;\n",
       "    }\n",
       "\n",
       "    .dataframe thead th {\n",
       "        text-align: right;\n",
       "    }\n",
       "</style>\n",
       "<table border=\"1\" class=\"dataframe\">\n",
       "  <thead>\n",
       "    <tr style=\"text-align: right;\">\n",
       "      <th></th>\n",
       "      <th>rideshare</th>\n",
       "      <th>pickup_datetime</th>\n",
       "      <th>dropoff_datetime</th>\n",
       "      <th>trip_miles</th>\n",
       "      <th>trip_time</th>\n",
       "      <th>tips</th>\n",
       "      <th>driver_pay</th>\n",
       "      <th>date</th>\n",
       "      <th>total_pay</th>\n",
       "      <th>pay_rate</th>\n",
       "    </tr>\n",
       "  </thead>\n",
       "  <tbody>\n",
       "    <tr>\n",
       "      <th>0</th>\n",
       "      <td>Uber</td>\n",
       "      <td>2021-01-01 00:33:44</td>\n",
       "      <td>2021-01-01 00:49:07</td>\n",
       "      <td>5.26</td>\n",
       "      <td>923</td>\n",
       "      <td>0.00</td>\n",
       "      <td>14.99</td>\n",
       "      <td>2021-01-01</td>\n",
       "      <td>14.99</td>\n",
       "      <td>58.465872</td>\n",
       "    </tr>\n",
       "    <tr>\n",
       "      <th>1</th>\n",
       "      <td>Uber</td>\n",
       "      <td>2021-01-01 00:55:19</td>\n",
       "      <td>2021-01-01 01:18:21</td>\n",
       "      <td>3.65</td>\n",
       "      <td>1382</td>\n",
       "      <td>0.00</td>\n",
       "      <td>17.06</td>\n",
       "      <td>2021-01-01</td>\n",
       "      <td>17.06</td>\n",
       "      <td>44.439942</td>\n",
       "    </tr>\n",
       "    <tr>\n",
       "      <th>2</th>\n",
       "      <td>Uber</td>\n",
       "      <td>2021-01-01 00:23:56</td>\n",
       "      <td>2021-01-01 00:38:05</td>\n",
       "      <td>3.51</td>\n",
       "      <td>849</td>\n",
       "      <td>0.94</td>\n",
       "      <td>12.98</td>\n",
       "      <td>2021-01-01</td>\n",
       "      <td>13.92</td>\n",
       "      <td>59.024735</td>\n",
       "    </tr>\n",
       "    <tr>\n",
       "      <th>3</th>\n",
       "      <td>Uber</td>\n",
       "      <td>2021-01-01 00:42:51</td>\n",
       "      <td>2021-01-01 00:45:50</td>\n",
       "      <td>0.74</td>\n",
       "      <td>179</td>\n",
       "      <td>0.00</td>\n",
       "      <td>7.41</td>\n",
       "      <td>2021-01-01</td>\n",
       "      <td>7.41</td>\n",
       "      <td>149.027933</td>\n",
       "    </tr>\n",
       "    <tr>\n",
       "      <th>4</th>\n",
       "      <td>Uber</td>\n",
       "      <td>2021-01-01 00:48:14</td>\n",
       "      <td>2021-01-01 01:08:42</td>\n",
       "      <td>9.20</td>\n",
       "      <td>1228</td>\n",
       "      <td>0.00</td>\n",
       "      <td>22.44</td>\n",
       "      <td>2021-01-01</td>\n",
       "      <td>22.44</td>\n",
       "      <td>65.785016</td>\n",
       "    </tr>\n",
       "  </tbody>\n",
       "</table>\n",
       "</div>"
      ],
      "text/plain": [
       "  rideshare     pickup_datetime    dropoff_datetime  trip_miles  trip_time  \\\n",
       "0      Uber 2021-01-01 00:33:44 2021-01-01 00:49:07        5.26        923   \n",
       "1      Uber 2021-01-01 00:55:19 2021-01-01 01:18:21        3.65       1382   \n",
       "2      Uber 2021-01-01 00:23:56 2021-01-01 00:38:05        3.51        849   \n",
       "3      Uber 2021-01-01 00:42:51 2021-01-01 00:45:50        0.74        179   \n",
       "4      Uber 2021-01-01 00:48:14 2021-01-01 01:08:42        9.20       1228   \n",
       "\n",
       "   tips  driver_pay        date  total_pay    pay_rate  \n",
       "0  0.00       14.99  2021-01-01      14.99   58.465872  \n",
       "1  0.00       17.06  2021-01-01      17.06   44.439942  \n",
       "2  0.94       12.98  2021-01-01      13.92   59.024735  \n",
       "3  0.00        7.41  2021-01-01       7.41  149.027933  \n",
       "4  0.00       22.44  2021-01-01      22.44   65.785016  "
      ]
     },
     "execution_count": 70,
     "metadata": {},
     "output_type": "execute_result"
    }
   ],
   "source": [
    "# Verify the combined dataframe\n",
    "combined_df.head()"
   ]
  },
  {
   "cell_type": "code",
   "execution_count": 71,
   "id": "4c0c60f4-cc3b-44dd-9632-96d92aec9969",
   "metadata": {},
   "outputs": [
    {
     "data": {
      "text/plain": [
       "(172950488, 10)"
      ]
     },
     "execution_count": 71,
     "metadata": {},
     "output_type": "execute_result"
    }
   ],
   "source": [
    "combined_df.shape"
   ]
  },
  {
   "cell_type": "markdown",
   "id": "7524f944-4cd5-4b3e-90fc-ed63a002c93e",
   "metadata": {},
   "source": [
    "#### Export cleaned DataFrame to .parquet file"
   ]
  },
  {
   "cell_type": "code",
   "execution_count": 72,
   "id": "9aa7c61b-c9f7-4963-aa56-3e53c1f2c362",
   "metadata": {},
   "outputs": [],
   "source": [
    "# Exporting DataFrame to a Parquet file named 'combined_data.parquet'\n",
    "combined_df.to_parquet('combined_data.parquet', index=False)"
   ]
  },
  {
   "cell_type": "markdown",
   "id": "f3326f74-bfb2-487d-88ff-448b26e8f614",
   "metadata": {},
   "source": [
    "<a id='eda'></a>\n",
    "### Analyzing and Visualizing Data"
   ]
  },
  {
   "cell_type": "code",
   "execution_count": 2,
   "id": "18213b87-ad50-439a-9646-1d0781540cb6",
   "metadata": {},
   "outputs": [],
   "source": [
    "combined_df = pd.read_parquet('combined_data.parquet')"
   ]
  },
  {
   "cell_type": "code",
   "execution_count": 11,
   "id": "4ffb3f61-a53a-4cc6-a4e5-767e9fb0ee4a",
   "metadata": {},
   "outputs": [],
   "source": [
    "# Separate data for Uber and Lyft with total_pay and pay_rate columns\n",
    "uber_data = combined_df[combined_df['rideshare'] == 'Uber']['total_pay']\n",
    "lyft_data = combined_df[combined_df['rideshare'] == 'Lyft']['total_pay']"
   ]
  },
  {
   "cell_type": "code",
   "execution_count": 12,
   "id": "76436e2a-9fb7-4edd-ace5-7c101b4a4565",
   "metadata": {},
   "outputs": [
    {
     "name": "stdout",
     "output_type": "stream",
     "text": [
      "Independent Samples T-Test Results:\n",
      "T-Statistic: 602.2085599912111\n",
      "P-Value: 0.0\n",
      "The difference in average daily earnings between Uber and Lyft drivers is statistically significant.\n"
     ]
    }
   ],
   "source": [
    "# Perform independent samples t-test\n",
    "t_statistic, p_value = ttest_ind(uber_data, lyft_data, equal_var=False)\n",
    "\n",
    "# Display the results\n",
    "print(\"Independent Samples T-Test Results:\")\n",
    "print(f\"T-Statistic: {t_statistic}\")\n",
    "print(f\"P-Value: {p_value}\")\n",
    "\n",
    "# Check for significance at 0.05\n",
    "if p_value < 0.05:\n",
    "    print(\"The difference in average daily earnings between Uber and Lyft drivers is statistically significant.\")\n",
    "else:\n",
    "    print(\"There is no significant difference in average daily earnings between Uber and Lyft drivers.\")"
   ]
  },
  {
   "cell_type": "code",
   "execution_count": 19,
   "id": "bb4c4a03-3e18-4752-8cce-ad01deff5313",
   "metadata": {},
   "outputs": [
    {
     "data": {
      "image/png": "[encoded data removed]",
      "text/plain": [
       "<Figure size 1000x600 with 1 Axes>"
      ]
     },
     "metadata": {},
     "output_type": "display_data"
    }
   ],
   "source": [
    "# Pivot the data for line plot\n",
    "pivot_df = daily_earnings.pivot(index='date', columns='rideshare', values='total_pay').reset_index()\n",
    "\n",
    "# Plotting the trend of average daily earnings over time\n",
    "plt.figure(figsize=(10, 6))\n",
    "plt.plot(pivot_df['date'], pivot_df['Uber'], label='Uber', marker='o')\n",
    "plt.plot(pivot_df['date'], pivot_df['Lyft'], label='Lyft', marker='o')\n",
    "plt.xlabel('Date')\n",
    "plt.ylabel('Daily Earnings')\n",
    "plt.title('Trend of Daily Earnings: Uber vs. Lyft')\n",
    "plt.legend()\n",
    "plt.xticks(rotation=45)\n",
    "plt.tight_layout()\n",
    "plt.show()"
   ]
  },
  {
   "cell_type": "code",
   "execution_count": 13,
   "id": "8c5a60b6-5db2-4ded-ad4e-f39e963a4718",
   "metadata": {},
   "outputs": [],
   "source": [
    "# Separate data for Uber and Lyft using pay_rate\n",
    "uber_pay_rate = combined_df[combined_df['rideshare'] == 'Uber']['pay_rate']\n",
    "lyft_pay_rate = combined_df[combined_df['rideshare'] == 'Lyft']['pay_rate']"
   ]
  },
  {
   "cell_type": "code",
   "execution_count": 14,
   "id": "42874b91-fda6-4570-94c8-0f7f56100fae",
   "metadata": {},
   "outputs": [
    {
     "name": "stdout",
     "output_type": "stream",
     "text": [
      "Independent Samples T-Test Results:\n",
      "T-Statistic: 309.0512072778535\n",
      "P-Value: 0.0\n",
      "The difference in average pay rates between Uber and Lyft drivers is statistically significant.\n"
     ]
    }
   ],
   "source": [
    "# Perform independent samples t-test\n",
    "t_statistic, p_value = ttest_ind(uber_pay_rate, lyft_pay_rate, equal_var=False)\n",
    "\n",
    "# Display the results\n",
    "print(\"Independent Samples T-Test Results:\")\n",
    "print(f\"T-Statistic: {t_statistic}\")\n",
    "print(f\"P-Value: {p_value}\")\n",
    "\n",
    "# Check for significance at 0.05\n",
    "if p_value < 0.05:\n",
    "    print(\"The difference in average pay rates between Uber and Lyft drivers is statistically significant.\")\n",
    "else:\n",
    "    print(\"There is no significant difference in average pay rates between Uber and Lyft drivers.\")"
   ]
  },
  {
   "cell_type": "code",
   "execution_count": 17,
   "id": "17555b04-9247-4383-954e-d80fbaeafba5",
   "metadata": {},
   "outputs": [
    {
     "data": {
      "image/png": "[encoded data removed]",
      "text/plain": [
       "<Figure size 800x600 with 1 Axes>"
      ]
     },
     "metadata": {},
     "output_type": "display_data"
    }
   ],
   "source": [
    "plt.figure(figsize=(8, 6))\n",
    "plt.bar(['Uber', 'Lyft'], [uber_pay_rate.mean(), lyft_pay_rate.mean()], color=['blue', 'green'])\n",
    "plt.xlabel('Rideshare Company')\n",
    "plt.ylabel('Average Hourly Pay Rate')\n",
    "plt.title('Average Pay Rate Comparison: Uber vs. Lyft')\n",
    "plt.show()"
   ]
  },
  {
   "cell_type": "markdown",
   "id": "ba5462c8-eae4-45ed-ba73-ffe9890ab440",
   "metadata": {},
   "source": [
    "<a id='conclusions'></a>\n",
    "### Conclusions\n",
    "\n",
    "The project focused on analyzing the average daily earnings of Uber and Lyft drivers using an independent samples t-test. Through this statistical comparison, a significant difference in earnings between the two ride-sharing platforms was identified, indicating that the mean daily earnings for drivers significantly vary between Uber and Lyft. This aligns with the project's goal of discerning whether a substantial difference exists in the average daily earnings between these entities.\n",
    "\n",
    "In the conducted analysis, an independent samples t-test was performed to ascertain any disparity in the average pay rates between Uber and Lyft drivers. The null hypothesis posited no significant difference in the average pay rates between the two groups. Utilizing the t-test method, a t-statistic of 309.0512072778535 was obtained, along with a derived p-value of 0.0. This statistical test was executed with an alpha value set at 0.05 to gauge statistical significance.\n",
    "\n",
    "The obtained results indicated that the calculated p-value of 0.0 fell well below the predetermined significance level of 0.05. Consequently, there was evidence to reject the null hypothesis. Thus, it was concluded that a statistically significant difference exists in the average pay rates between Uber and Lyft drivers. \n",
    "\n",
    "The statistically significant divergence in earnings highlights the practical significance of the findings, suggesting tangible disparities in financial performance within the rideshare industry. However, it's essential to note that while there's a significant difference in earnings, practical implications may differ based on individual drivers' experiences due to various factors like location, demand, and driving hours.\n",
    "\n",
    "The results from the independent samples t-test revealed a statistically significant difference in the average pay rates between Uber and Lyft drivers. This finding holds practical significance, indicating a substantial disparity in earnings between these two prominent ride-sharing companies. For instance, suppose Uber drivers consistently earn significantly higher pay rates compared to their counterparts at Lyft. In that case, this difference becomes practically meaningful in real-life scenarios, potentially influencing drivers' choices of the platform they wish to work for based on their income expectations.\n",
    "\n",
    "These results provide valuable insights for stakeholders, enabling them to make informed decisions within the ridesharing domain. For instance, ride-sharing companies might use this information to refine their driver compensation strategies or enhance their incentive programs to attract and retain drivers more effectively, potentially leading to better overall performance and service quality.\n",
    "\n",
    "Overall, the project's conclusions are consistent with the chosen analytic methods and the project's stated goals, providing a statistically supported understanding of the earnings discrepancies between Uber and Lyft drivers within the rideshare industry"
   ]
  }
 ],
 "metadata": {
  "kernelspec": {
   "display_name": "Python 3 (ipykernel)",
   "language": "python",
   "name": "python3"
  },
  "language_info": {
   "codemirror_mode": {
    "name": "ipython",
    "version": 3
   },
   "file_extension": ".py",
   "mimetype": "text/x-python",
   "name": "python",
   "nbconvert_exporter": "python",
   "pygments_lexer": "ipython3",
   "version": "3.10.4"
  }
 },
 "nbformat": 4,
 "nbformat_minor": 5
}
